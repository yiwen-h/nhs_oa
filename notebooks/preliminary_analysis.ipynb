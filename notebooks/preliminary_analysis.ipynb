{
 "cells": [
  {
   "cell_type": "markdown",
   "id": "f95cf5cd",
   "metadata": {
    "slideshow": {
     "slide_type": "slide"
    }
   },
   "source": [
    "# Preliminary analysis for NHS_OA project\n",
    "\n",
    "This project aims to identify and analyse the research publications produced by\n",
    "NHS staff. Aspects to be explored include: data collection and processing, open access status and type, and topic analysis. This is a preliminary analysis to explore the data collected in the early stages of the project and identify next steps."
   ]
  },
  {
   "cell_type": "code",
   "execution_count": 3,
   "id": "e078e741",
   "metadata": {
    "slideshow": {
     "slide_type": "skip"
    }
   },
   "outputs": [],
   "source": [
    "import pandas as pd\n",
    "import numpy as np\n",
    "from ast import literal_eval\n",
    "import seaborn as sns"
   ]
  },
  {
   "cell_type": "markdown",
   "id": "d0d28d01",
   "metadata": {
    "slideshow": {
     "slide_type": "slide"
    }
   },
   "source": [
    "## Data sourcing\n",
    "\n",
    "~~~\n",
    "(nhs[Affiliation]) AND ((\"2019/10/01\"[Date - Publication] : \"2019/12/31\"[Date - Publication]))\n",
    "~~~\n",
    "\n",
    "Preliminary data was obtained from Pubmed using the search string shown above. This produced approximately 25,000 papers. A number of different data sourcing options were explored, including using the Pubmed Entrez API, utilising the full dataset download via FTP, or different data download options directly from the Pubmed website. The 'Abstract - text' option from the Pubmed website offered the most reliability and functionality, although it was quite a manual process.\n",
    "\n",
    "Future improvements for downloading further data from Pubmed:\n",
    "- Try the Entrez API again\n",
    "- Utilise Selenium to automate the downloading of data\n",
    "\n",
    "Ultimately I would like to have at least 10 years of NHS publication data to analyse."
   ]
  },
  {
   "cell_type": "markdown",
   "id": "c0b39b19",
   "metadata": {
    "slideshow": {
     "slide_type": "subslide"
    }
   },
   "source": [
    "## Data augmentation and processing\n",
    "\n",
    "[Pubmed processing package](https://github.com/yiwen-h/nhs_oa/blob/master/nhs_oa/data_from_pubmed.py)\n",
    "The data obtained from Pubmed was in raw txt format. Regex was used to extract key information from the txt, namely:\n",
    "- doi\n",
    "- pmid\n",
    "- affiliations\n",
    "- abstract\n",
    "\n",
    "Using the DOI, the data was then supplemented with further metadata obtained from the sources below. I utilised APIs to obtain this information and saved it as a CSV file for further use.\n",
    "\n",
    "[Crossref](https://github.com/yiwen-h/nhs_oa/blob/master/nhs_oa/data_from_crossref.py)\n",
    "- date published\n",
    "- list of authors\n",
    "- journal title\n",
    "- article title\n",
    "- number of times article was cited\n",
    "- number of times article was referenced\n",
    "\n",
    "[Unpaywall](https://github.com/yiwen-h/nhs_oa/blob/master/nhs_oa/data_from_unpaywall.py)\n",
    "- date published (again)\n",
    "- open access status\n",
    "- open access locations\n",
    "- article type ('genre')\n",
    "\n",
    "[OpenAlex](https://github.com/yiwen-h/nhs_oa/blob/master/nhs_oa/data_from_openalex.py). \n",
    "- I saved the entire OpenAlex API return, which included very useful information such as MESH headings, institutional affiliations, and OpenAlex 'concept'.\n",
    "\n",
    "\n",
    "Next steps:\n",
    "- Instead of parsing the information obtained via API from Crossref/Unpaywall, save the whole JSON return directly to the database (this was the approach taken with OpenAlex info). This means all metadata can be accessed later and I won't have to query the APIs multiple times\n",
    "- CSV is not a good format for this and the CSV just for 2019 is already 300MB. I need to utilise something like Google BigQuery to store the data.\n"
   ]
  },
  {
   "cell_type": "code",
   "execution_count": 23,
   "id": "fb54cf2f",
   "metadata": {
    "scrolled": true,
    "slideshow": {
     "slide_type": "subslide"
    }
   },
   "outputs": [
    {
     "data": {
      "text/plain": [
       "(24162, 16)"
      ]
     },
     "execution_count": 23,
     "metadata": {},
     "output_type": "execute_result"
    }
   ],
   "source": [
    "df = pd.read_csv(\"../csv/2019_crossref_pubmed_upw_openalex.csv\", index_col = 0)\n",
    "df.head()\n",
    "\n",
    "# Basic preprocessing\n",
    "\n",
    "# Replace if no abstract with title of article\n",
    "df.abstract.fillna(df['article title'], inplace=True)\n",
    "df.dropna(inplace = True)\n",
    "df.shape"
   ]
  },
  {
   "cell_type": "markdown",
   "id": "0963b47d",
   "metadata": {
    "slideshow": {
     "slide_type": "slide"
    }
   },
   "source": [
    "## Analysing OpenAccess status"
   ]
  },
  {
   "cell_type": "code",
   "execution_count": 24,
   "id": "c20536e2",
   "metadata": {
    "slideshow": {
     "slide_type": "-"
    }
   },
   "outputs": [
    {
     "data": {
      "text/html": [
       "<div>\n",
       "<style scoped>\n",
       "    .dataframe tbody tr th:only-of-type {\n",
       "        vertical-align: middle;\n",
       "    }\n",
       "\n",
       "    .dataframe tbody tr th {\n",
       "        vertical-align: top;\n",
       "    }\n",
       "\n",
       "    .dataframe thead th {\n",
       "        text-align: right;\n",
       "    }\n",
       "</style>\n",
       "<table border=\"1\" class=\"dataframe\">\n",
       "  <thead>\n",
       "    <tr style=\"text-align: right;\">\n",
       "      <th></th>\n",
       "      <th>counts</th>\n",
       "      <th>%</th>\n",
       "    </tr>\n",
       "  </thead>\n",
       "  <tbody>\n",
       "    <tr>\n",
       "      <th>closed</th>\n",
       "      <td>7036</td>\n",
       "      <td>29.1%</td>\n",
       "    </tr>\n",
       "    <tr>\n",
       "      <th>gold</th>\n",
       "      <td>5295</td>\n",
       "      <td>21.9%</td>\n",
       "    </tr>\n",
       "    <tr>\n",
       "      <th>green</th>\n",
       "      <td>4951</td>\n",
       "      <td>20.5%</td>\n",
       "    </tr>\n",
       "    <tr>\n",
       "      <th>hybrid</th>\n",
       "      <td>3518</td>\n",
       "      <td>14.6%</td>\n",
       "    </tr>\n",
       "    <tr>\n",
       "      <th>bronze</th>\n",
       "      <td>3362</td>\n",
       "      <td>13.9%</td>\n",
       "    </tr>\n",
       "  </tbody>\n",
       "</table>\n",
       "</div>"
      ],
      "text/plain": [
       "        counts      %\n",
       "closed    7036  29.1%\n",
       "gold      5295  21.9%\n",
       "green     4951  20.5%\n",
       "hybrid    3518  14.6%\n",
       "bronze    3362  13.9%"
      ]
     },
     "execution_count": 24,
     "metadata": {},
     "output_type": "execute_result"
    },
    {
     "data": {
      "image/png": "[encoded data removed]",
      "text/plain": [
       "<Figure size 432x288 with 1 Axes>"
      ]
     },
     "metadata": {
      "needs_background": "light"
     },
     "output_type": "display_data"
    }
   ],
   "source": [
    "oa_colours = {\"closed\": \"#3d3d3d\", \"gold\":\"#ffa200\", \"green\":\"#118536\", \"hybrid\": \"#9600bf\", \"bronze\": \"#e06363\"}\n",
    "ax = sns.countplot(data = df, x = \"oa_status\", palette = oa_colours)\n",
    "\n",
    "count_oa = df.oa_status.value_counts(dropna=True)\n",
    "percentage_oa = df.oa_status.value_counts(dropna=True, normalize=True).mul(100).round(1).astype(str) + '%'\n",
    "pd.concat([count_oa,percentage_oa], axis=1, keys=['counts', '%'])"
   ]
  },
  {
   "cell_type": "markdown",
   "id": "d4d7726e",
   "metadata": {
    "slideshow": {
     "slide_type": "slide"
    }
   },
   "source": [
    "## Number of authors and Open Access status\n"
   ]
  },
  {
   "cell_type": "code",
   "execution_count": null,
   "id": "4962465f",
   "metadata": {
    "slideshow": {
     "slide_type": "-"
    }
   },
   "outputs": [],
   "source": [
    "df['author_list'] = df[\"author_list\"].apply(literal_eval)\n",
    "df[\"num_authors\"] = df['author_list'].apply(lambda x: len(list(x)))"
   ]
  },
  {
   "cell_type": "code",
   "execution_count": 45,
   "id": "4e31a9bd",
   "metadata": {
    "slideshow": {
     "slide_type": "-"
    }
   },
   "outputs": [
    {
     "data": {
      "text/plain": [
       "[Text(0.5, 1.0, 'Number of authors per paper, by Open Access status')]"
      ]
     },
     "execution_count": 45,
     "metadata": {},
     "output_type": "execute_result"
    },
    {
     "data": {
      "image/png": "[encoded data removed]",
      "text/plain": [
       "<Figure size 432x288 with 1 Axes>"
      ]
     },
     "metadata": {
      "needs_background": "light"
     },
     "output_type": "display_data"
    }
   ],
   "source": [
    "sns.kdeplot(\n",
    "    data = df, x=\"num_authors\", hue = \"oa_status\",  \n",
    "    palette = oa_colours, clip = [0,40]).set(\n",
    "    title='Number of authors per paper, by Open Access status')\n"
   ]
  },
  {
   "cell_type": "markdown",
   "id": "ecb169dc",
   "metadata": {
    "slideshow": {
     "slide_type": "-"
    }
   },
   "source": [
    "Closed access papers were more likely to have a lower number of authors."
   ]
  },
  {
   "cell_type": "markdown",
   "id": "e279cb7b",
   "metadata": {
    "slideshow": {
     "slide_type": "slide"
    }
   },
   "source": [
    "## Institutional affiliation\n",
    "\n",
    "Analysis of the institutional affiliation of the authors was difficult to do as organisations are not consistently named. Additionally there are many co-authored papers with individuals from organisations outside of the NHS. This is an important area of work for this project - entity recognition and perhaps some kind of authority control list for reference would be helpful."
   ]
  },
  {
   "cell_type": "code",
   "execution_count": null,
   "id": "50de103e",
   "metadata": {
    "slideshow": {
     "slide_type": "skip"
    }
   },
   "outputs": [],
   "source": [
    "df[\"openalex_metadata\"] =  df[\"openalex_metadata\"].apply(literal_eval)"
   ]
  },
  {
   "cell_type": "code",
   "execution_count": null,
   "id": "31cc40bf",
   "metadata": {},
   "outputs": [],
   "source": []
  },
  {
   "cell_type": "markdown",
   "id": "3e7057cf",
   "metadata": {
    "slideshow": {
     "slide_type": "slide"
    }
   },
   "source": [
    "## MESH headings"
   ]
  },
  {
   "cell_type": "code",
   "execution_count": 47,
   "id": "9e3054cf",
   "metadata": {
    "slideshow": {
     "slide_type": "-"
    }
   },
   "outputs": [],
   "source": [
    "# get concepts from OpenAlex metadata\n",
    "df['concepts'] = df['openalex_metadata'].apply(lambda x: x.get('concepts', \"NaN\"))\n",
    "def get_concepts(list_with_concepts):\n",
    "  temp_list = []\n",
    "  for i in list_with_concepts:\n",
    "    if i['display_name'] not in temp_list:\n",
    "      temp_list.append(i['display_name'])\n",
    "  return temp_list\n",
    "df['concepts'] = df['concepts'].apply(lambda x: get_concepts(x))"
   ]
  },
  {
   "cell_type": "code",
   "execution_count": 48,
   "id": "eb087875",
   "metadata": {
    "slideshow": {
     "slide_type": "-"
    }
   },
   "outputs": [
    {
     "name": "stderr",
     "output_type": "stream",
     "text": [
      "/tmp/ipykernel_2256/3663573514.py:16: SettingWithCopyWarning: \n",
      "A value is trying to be set on a copy of a slice from a DataFrame\n",
      "\n",
      "See the caveats in the documentation: https://pandas.pydata.org/pandas-docs/stable/user_guide/indexing.html#returning-a-view-versus-a-copy\n",
      "  df.major_mesh.iloc[i] = df.concepts.iloc[i]\n"
     ]
    }
   ],
   "source": [
    "# major mesh headings only \n",
    "\n",
    "# get major mesh headings\n",
    "df['major_mesh'] = df['openalex_metadata'].apply(lambda x: x.get('mesh', \"NaN\"))\n",
    "def get_major_mesh(list_with_mesh):\n",
    "  temp_list = []\n",
    "  for topic_list in list_with_mesh:\n",
    "    if topic_list['is_major_topic'] == True:\n",
    "      if topic_list['descriptor_name'] not in temp_list:\n",
    "        temp_list.append(topic_list['descriptor_name'])\n",
    "  return temp_list\n",
    "df['major_mesh'] = df['major_mesh'].apply(lambda x: get_major_mesh(x))\n",
    "\n",
    "for i in range(df.shape[0]):\n",
    "  if len(df.major_mesh.iloc[i]) == 0:\n",
    "    df.major_mesh.iloc[i] = df.concepts.iloc[i]\n",
    "\n",
    "df['major_mesh'].apply(lambda x: list(set(x)))\n",
    "\n",
    "\n",
    "# count number of occurences for topic\n",
    "major_concept_count_dict = {}\n",
    "for i in range(df.shape[0]):\n",
    "  concept_list = df.major_mesh.iloc[i]\n",
    "  for i in concept_list:\n",
    "    if i not in major_concept_count_dict:\n",
    "      major_concept_count_dict[i] = 1\n",
    "    else: \n",
    "      major_concept_count_dict[i] += 1\n",
    "\n",
    "## create df of concept counts only\n",
    "major_concept_df = pd.DataFrame.from_dict(major_concept_count_dict, orient = \"index\", columns = [\"count\"])\n",
    "major_concept_df.sort_values(by = 'count', inplace=True, ascending = False)\n",
    "major_concept_df[major_concept_df['count'] >= 50]\n",
    "\n",
    "# remove not useful subject headings\n",
    "major_concept_df.drop(['Medicine', 'Internal medicine', 'MEDLINE',  'Disease'] ,inplace = True)"
   ]
  },
  {
   "cell_type": "markdown",
   "id": "db22ae61",
   "metadata": {
    "slideshow": {
     "slide_type": "-"
    }
   },
   "source": [
    "The table below shows the count of the most frequently occuring MESH Major topics or OpenAlex concepts. Topics that were very general, such as 'Medicine', 'Internal medicine', 'MEDLINE', and 'Disease' were dropped.\n",
    "\n",
    "Further analysis could map the frequently occuring MESH Major topics with the OpenAccess status for their corresponding papers, to see if specific topics were more likely to be OpenAccess, or not."
   ]
  },
  {
   "cell_type": "code",
   "execution_count": 49,
   "id": "47129de6",
   "metadata": {
    "scrolled": true,
    "slideshow": {
     "slide_type": "-"
    }
   },
   "outputs": [
    {
     "data": {
      "text/html": [
       "<div>\n",
       "<style scoped>\n",
       "    .dataframe tbody tr th:only-of-type {\n",
       "        vertical-align: middle;\n",
       "    }\n",
       "\n",
       "    .dataframe tbody tr th {\n",
       "        vertical-align: top;\n",
       "    }\n",
       "\n",
       "    .dataframe thead th {\n",
       "        text-align: right;\n",
       "    }\n",
       "</style>\n",
       "<table border=\"1\" class=\"dataframe\">\n",
       "  <thead>\n",
       "    <tr style=\"text-align: right;\">\n",
       "      <th></th>\n",
       "      <th>count</th>\n",
       "    </tr>\n",
       "  </thead>\n",
       "  <tbody>\n",
       "    <tr>\n",
       "      <th>Surgery</th>\n",
       "      <td>612</td>\n",
       "    </tr>\n",
       "    <tr>\n",
       "      <th>Psychology</th>\n",
       "      <td>521</td>\n",
       "    </tr>\n",
       "    <tr>\n",
       "      <th>Intensive care medicine</th>\n",
       "      <td>398</td>\n",
       "    </tr>\n",
       "    <tr>\n",
       "      <th>Radiology</th>\n",
       "      <td>357</td>\n",
       "    </tr>\n",
       "    <tr>\n",
       "      <th>Magnetic Resonance Imaging</th>\n",
       "      <td>335</td>\n",
       "    </tr>\n",
       "    <tr>\n",
       "      <th>Quality of Life</th>\n",
       "      <td>325</td>\n",
       "    </tr>\n",
       "    <tr>\n",
       "      <th>Breast Neoplasms</th>\n",
       "      <td>311</td>\n",
       "    </tr>\n",
       "    <tr>\n",
       "      <th>Postoperative Complications</th>\n",
       "      <td>289</td>\n",
       "    </tr>\n",
       "    <tr>\n",
       "      <th>Neoplasms</th>\n",
       "      <td>284</td>\n",
       "    </tr>\n",
       "    <tr>\n",
       "      <th>Prostatic Neoplasms</th>\n",
       "      <td>274</td>\n",
       "    </tr>\n",
       "  </tbody>\n",
       "</table>\n",
       "</div>"
      ],
      "text/plain": [
       "                             count\n",
       "Surgery                        612\n",
       "Psychology                     521\n",
       "Intensive care medicine        398\n",
       "Radiology                      357\n",
       "Magnetic Resonance Imaging     335\n",
       "Quality of Life                325\n",
       "Breast Neoplasms               311\n",
       "Postoperative Complications    289\n",
       "Neoplasms                      284\n",
       "Prostatic Neoplasms            274"
      ]
     },
     "execution_count": 49,
     "metadata": {},
     "output_type": "execute_result"
    }
   ],
   "source": [
    "major_concept_df.iloc[:10]"
   ]
  },
  {
   "cell_type": "markdown",
   "id": "a71967a3",
   "metadata": {
    "slideshow": {
     "slide_type": "slide"
    }
   },
   "source": []
  },
  {
   "cell_type": "code",
   "execution_count": null,
   "id": "e07435a7",
   "metadata": {},
   "outputs": [],
   "source": []
  },
  {
   "cell_type": "code",
   "execution_count": null,
   "id": "18110c91",
   "metadata": {},
   "outputs": [],
   "source": []
  },
  {
   "cell_type": "code",
   "execution_count": null,
   "id": "3cc77fb6",
   "metadata": {},
   "outputs": [],
   "source": []
  },
  {
   "cell_type": "code",
   "execution_count": null,
   "id": "711d3197",
   "metadata": {},
   "outputs": [],
   "source": []
  },
  {
   "cell_type": "code",
   "execution_count": null,
   "id": "e9a21c9c",
   "metadata": {},
   "outputs": [],
   "source": []
  },
  {
   "cell_type": "markdown",
   "id": "c535c91e",
   "metadata": {
    "slideshow": {
     "slide_type": "slide"
    }
   },
   "source": [
    "# Next steps\n"
   ]
  }
 ],
 "metadata": {
  "celltoolbar": "Slideshow",
  "kernelspec": {
   "display_name": "Python 3 (ipykernel)",
   "language": "python",
   "name": "python3"
  },
  "language_info": {
   "codemirror_mode": {
    "name": "ipython",
    "version": 3
   },
   "file_extension": ".py",
   "mimetype": "text/x-python",
   "name": "python",
   "nbconvert_exporter": "python",
   "pygments_lexer": "ipython3",
   "version": "3.8.12"
  },
  "toc": {
   "base_numbering": 1,
   "nav_menu": {},
   "number_sections": true,
   "sideBar": true,
   "skip_h1_title": true,
   "title_cell": "Table of Contents",
   "title_sidebar": "Contents",
   "toc_cell": false,
   "toc_position": {},
   "toc_section_display": true,
   "toc_window_display": false
  }
 },
 "nbformat": 4,
 "nbformat_minor": 5
}
