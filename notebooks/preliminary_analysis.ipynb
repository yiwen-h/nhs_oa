{
 "cells": [
  {
   "cell_type": "markdown",
   "id": "f95cf5cd",
   "metadata": {
    "slideshow": {
     "slide_type": "slide"
    }
   },
   "source": [
    "# Preliminary analysis for NHS_OA project\n",
    "\n",
    "This project aims to identify and analyse the research publications produced by\n",
    "NHS staff. Aspects to be explored include: data collection and processing, open access status and type, and topic analysis. This is a preliminary analysis to explore the data collected in the early stages of the project and identify next steps."
   ]
  },
  {
   "cell_type": "code",
   "execution_count": 45,
   "id": "e078e741",
   "metadata": {
    "slideshow": {
     "slide_type": "skip"
    }
   },
   "outputs": [
    {
     "name": "stderr",
     "output_type": "stream",
     "text": [
      "[nltk_data] Downloading package punkt to /home/yiwen-h/nltk_data...\n",
      "[nltk_data]   Package punkt is already up-to-date!\n",
      "[nltk_data] Downloading package wordnet to /home/yiwen-h/nltk_data...\n",
      "[nltk_data]   Package wordnet is already up-to-date!\n",
      "[nltk_data] Downloading package stopwords to\n",
      "[nltk_data]     /home/yiwen-h/nltk_data...\n",
      "[nltk_data]   Package stopwords is already up-to-date!\n"
     ]
    },
    {
     "data": {
      "text/plain": [
       "True"
      ]
     },
     "execution_count": 45,
     "metadata": {},
     "output_type": "execute_result"
    }
   ],
   "source": [
    "import pandas as pd\n",
    "import numpy as np\n",
    "from ast import literal_eval\n",
    "import seaborn as sns\n",
    "import nltk\n",
    "from nltk.corpus import stopwords \n",
    "import string\n",
    "from nltk.stem.wordnet import WordNetLemmatizer\n",
    "from nltk import word_tokenize \n",
    "nltk.download('punkt')\n",
    "nltk.download('wordnet')\n",
    "nltk.download('stopwords')"
   ]
  },
  {
   "cell_type": "markdown",
   "id": "d0d28d01",
   "metadata": {
    "slideshow": {
     "slide_type": "slide"
    }
   },
   "source": [
    "## Data sourcing\n",
    "\n",
    "~~~\n",
    "(nhs[Affiliation]) AND ((\"2019/10/01\"[Date - Publication] : \"2019/12/31\"[Date - Publication]))\n",
    "~~~\n",
    "\n",
    "Preliminary data was obtained from Pubmed using the search string shown above. This produced approximately 25,000 papers. A number of different data sourcing options were explored, including using the Pubmed Entrez API, utilising the full dataset download via FTP, or different data download options directly from the Pubmed website. The 'Abstract - text' option from the Pubmed website offered the most reliability and functionality, although it was quite a manual process.\n",
    "\n",
    "Future improvements for downloading further data from Pubmed:\n",
    "- Try the Entrez API again\n",
    "- Utilise Selenium to automate the downloading of data\n",
    "\n",
    "Ultimately I would like to have at least 10 years of NHS publication data to analyse."
   ]
  },
  {
   "cell_type": "markdown",
   "id": "c0b39b19",
   "metadata": {
    "slideshow": {
     "slide_type": "subslide"
    }
   },
   "source": [
    "## Data augmentation and processing\n",
    "\n",
    "[Pubmed processing package](https://github.com/yiwen-h/nhs_oa/blob/master/nhs_oa/data_from_pubmed.py)\n",
    "The data obtained from Pubmed was in raw txt format. Regex was used to extract key information from the txt, namely:\n",
    "- doi\n",
    "- pmid\n",
    "- affiliations\n",
    "- abstract\n",
    "\n",
    "Using the DOI, the data was then supplemented with further metadata obtained from the sources below. I utilised APIs to obtain this information and saved it as a CSV file for further use.\n",
    "\n",
    "[Crossref](https://github.com/yiwen-h/nhs_oa/blob/master/nhs_oa/data_from_crossref.py)\n",
    "- date published\n",
    "- list of authors\n",
    "- journal title\n",
    "- article title\n",
    "- number of times article was cited\n",
    "- number of times article was referenced\n",
    "\n",
    "[Unpaywall](https://github.com/yiwen-h/nhs_oa/blob/master/nhs_oa/data_from_unpaywall.py)\n",
    "- date published (again)\n",
    "- open access status\n",
    "- open access locations\n",
    "- article type ('genre')\n",
    "\n",
    "[OpenAlex](https://github.com/yiwen-h/nhs_oa/blob/master/nhs_oa/data_from_openalex.py). \n",
    "- I saved the entire OpenAlex API return, which included very useful information such as MESH headings, institutional affiliations, and OpenAlex 'concept'.\n",
    "\n",
    "\n",
    "Next steps:\n",
    "- Instead of parsing the information obtained via API from Crossref/Unpaywall, save the whole JSON return directly to the database (this was the approach taken with OpenAlex info). This means all metadata can be accessed later and I won't have to query the APIs multiple times\n",
    "- CSV is not a good format for this and the CSV just for 2019 is already 300MB. I need to utilise something like Google BigQuery to store the data.\n"
   ]
  },
  {
   "cell_type": "code",
   "execution_count": 2,
   "id": "fb54cf2f",
   "metadata": {
    "scrolled": true,
    "slideshow": {
     "slide_type": "subslide"
    }
   },
   "outputs": [
    {
     "data": {
      "text/plain": [
       "(24162, 16)"
      ]
     },
     "execution_count": 2,
     "metadata": {},
     "output_type": "execute_result"
    }
   ],
   "source": [
    "df = pd.read_csv(\"../csv/2019_crossref_pubmed_upw_openalex.csv\", index_col = 0)\n",
    "df.head()\n",
    "\n",
    "# Basic preprocessing\n",
    "\n",
    "# Replace if no abstract with title of article\n",
    "df.abstract.fillna(df['article title'], inplace=True)\n",
    "df.dropna(inplace = True)\n",
    "df.shape"
   ]
  },
  {
   "cell_type": "markdown",
   "id": "0963b47d",
   "metadata": {
    "slideshow": {
     "slide_type": "slide"
    }
   },
   "source": [
    "## Analysing OpenAccess status"
   ]
  },
  {
   "cell_type": "code",
   "execution_count": 18,
   "id": "c20536e2",
   "metadata": {
    "slideshow": {
     "slide_type": "-"
    }
   },
   "outputs": [
    {
     "data": {
      "text/html": [
       "<div>\n",
       "<style scoped>\n",
       "    .dataframe tbody tr th:only-of-type {\n",
       "        vertical-align: middle;\n",
       "    }\n",
       "\n",
       "    .dataframe tbody tr th {\n",
       "        vertical-align: top;\n",
       "    }\n",
       "\n",
       "    .dataframe thead th {\n",
       "        text-align: right;\n",
       "    }\n",
       "</style>\n",
       "<table border=\"1\" class=\"dataframe\">\n",
       "  <thead>\n",
       "    <tr style=\"text-align: right;\">\n",
       "      <th></th>\n",
       "      <th>counts</th>\n",
       "      <th>%</th>\n",
       "    </tr>\n",
       "  </thead>\n",
       "  <tbody>\n",
       "    <tr>\n",
       "      <th>closed</th>\n",
       "      <td>7036</td>\n",
       "      <td>29.1%</td>\n",
       "    </tr>\n",
       "    <tr>\n",
       "      <th>gold</th>\n",
       "      <td>5295</td>\n",
       "      <td>21.9%</td>\n",
       "    </tr>\n",
       "    <tr>\n",
       "      <th>green</th>\n",
       "      <td>4951</td>\n",
       "      <td>20.5%</td>\n",
       "    </tr>\n",
       "    <tr>\n",
       "      <th>hybrid</th>\n",
       "      <td>3518</td>\n",
       "      <td>14.6%</td>\n",
       "    </tr>\n",
       "    <tr>\n",
       "      <th>bronze</th>\n",
       "      <td>3362</td>\n",
       "      <td>13.9%</td>\n",
       "    </tr>\n",
       "  </tbody>\n",
       "</table>\n",
       "</div>"
      ],
      "text/plain": [
       "        counts      %\n",
       "closed    7036  29.1%\n",
       "gold      5295  21.9%\n",
       "green     4951  20.5%\n",
       "hybrid    3518  14.6%\n",
       "bronze    3362  13.9%"
      ]
     },
     "execution_count": 18,
     "metadata": {},
     "output_type": "execute_result"
    },
    {
     "data": {
      "image/png": "[encoded data removed]",
      "text/plain": [
       "<Figure size 432x288 with 1 Axes>"
      ]
     },
     "metadata": {
      "needs_background": "light"
     },
     "output_type": "display_data"
    }
   ],
   "source": [
    "oa_colours = {\"closed\": \"#3d3d3d\", \"gold\":\"#ffd000\", \"green\":\"#04d400\", \"hybrid\": \"#4484b3\", \"bronze\": \"#e06363\"}\n",
    "ax = sns.countplot(data = df, x = \"oa_status\", palette = oa_colours)\n",
    "\n",
    "count_oa = df.oa_status.value_counts(dropna=True)\n",
    "percentage_oa = df.oa_status.value_counts(dropna=True, normalize=True).mul(100).round(1).astype(str) + '%'\n",
    "pd.concat([count_oa,percentage_oa], axis=1, keys=['counts', '%'])"
   ]
  },
  {
   "cell_type": "markdown",
   "id": "d4d7726e",
   "metadata": {
    "slideshow": {
     "slide_type": "slide"
    }
   },
   "source": [
    "## Number of authors and Open Access status\n"
   ]
  },
  {
   "cell_type": "code",
   "execution_count": 4,
   "id": "4962465f",
   "metadata": {
    "slideshow": {
     "slide_type": "-"
    }
   },
   "outputs": [],
   "source": [
    "df['author_list'] = df[\"author_list\"].apply(literal_eval)\n",
    "df[\"num_authors\"] = df['author_list'].apply(lambda x: len(list(x)))"
   ]
  },
  {
   "cell_type": "code",
   "execution_count": 19,
   "id": "4e31a9bd",
   "metadata": {
    "slideshow": {
     "slide_type": "-"
    }
   },
   "outputs": [
    {
     "data": {
      "text/plain": [
       "[Text(0.5, 1.0, 'Number of authors per paper, by Open Access status')]"
      ]
     },
     "execution_count": 19,
     "metadata": {},
     "output_type": "execute_result"
    },
    {
     "data": {
      "image/png": "[encoded data removed]",
      "text/plain": [
       "<Figure size 432x288 with 1 Axes>"
      ]
     },
     "metadata": {
      "needs_background": "light"
     },
     "output_type": "display_data"
    }
   ],
   "source": [
    "sns.kdeplot(\n",
    "    data = df, x=\"num_authors\", hue = \"oa_status\",  \n",
    "    palette = oa_colours, clip = [0,40]).set(\n",
    "    title='Number of authors per paper, by Open Access status')\n"
   ]
  },
  {
   "cell_type": "markdown",
   "id": "ecb169dc",
   "metadata": {
    "slideshow": {
     "slide_type": "-"
    }
   },
   "source": [
    "Closed access papers were more likely to have a lower number of authors."
   ]
  },
  {
   "cell_type": "markdown",
   "id": "e279cb7b",
   "metadata": {
    "slideshow": {
     "slide_type": "slide"
    }
   },
   "source": [
    "## Institutional affiliation\n",
    "\n",
    "Analysis of the institutional affiliation of the authors was difficult to do as organisations are not consistently named. Additionally there are many co-authored papers with individuals from organisations outside of the NHS. This is an important area of work for this project - entity recognition and perhaps some kind of authority control list for reference would be helpful."
   ]
  },
  {
   "cell_type": "code",
   "execution_count": 6,
   "id": "50de103e",
   "metadata": {
    "slideshow": {
     "slide_type": "skip"
    }
   },
   "outputs": [],
   "source": [
    "df[\"openalex_metadata\"] =  df[\"openalex_metadata\"].apply(literal_eval)"
   ]
  },
  {
   "cell_type": "code",
   "execution_count": 7,
   "id": "31cc40bf",
   "metadata": {
    "slideshow": {
     "slide_type": "-"
    }
   },
   "outputs": [],
   "source": [
    "df['openalex_institutions'] = df['openalex_metadata'].apply(lambda x: x.get('authorships', \"NaN\"))\n",
    "\n",
    "# get openalex institutions\n",
    "def get_openalex_institutions(openalex_authorships):\n",
    "  temp_list = []\n",
    "  for author in openalex_authorships:\n",
    "    auth_inst_list = author.get(\"institutions\", None)\n",
    "    if auth_inst_list is not None:\n",
    "      for inst in auth_inst_list:\n",
    "        place = inst['display_name']\n",
    "        if place not in temp_list:\n",
    "          temp_list.append(place)\n",
    "  return temp_list\n",
    "\n",
    "df['openalex_institutions'] = df['openalex_institutions'].apply(lambda x: get_openalex_institutions(x))"
   ]
  },
  {
   "cell_type": "markdown",
   "id": "278fefef",
   "metadata": {
    "slideshow": {
     "slide_type": "-"
    }
   },
   "source": [
    "Not convinced of the quality of the OpenAlex institutions metadata so I combined it with the info obtained from Pubmed."
   ]
  },
  {
   "cell_type": "code",
   "execution_count": 20,
   "id": "8693f84a",
   "metadata": {
    "slideshow": {
     "slide_type": "-"
    }
   },
   "outputs": [],
   "source": [
    "#combine affiliations\n",
    "df['affiliations'] = df['affiliations'].apply(literal_eval)\n",
    "df['all_institutions'] = df['openalex_institutions'] + df['affiliations']\n",
    "df['all_institutions'] = df['all_institutions'].apply(lambda x: list(set(x)))\n",
    "\n",
    "# count number of occurences for each institution using combined Pubmed and OpenAlex data\n",
    "institution_count_dict = {}\n",
    "for i in range(df.shape[0]):\n",
    "  inst_list = df.all_institutions.iloc[i]\n",
    "  for i in inst_list:\n",
    "    if i not in institution_count_dict:\n",
    "      institution_count_dict[i] = 1\n",
    "    else: \n",
    "      institution_count_dict[i] += 1\n",
    "    \n",
    "# create df of institution counts only for analysis\n",
    "inst_df = pd.DataFrame.from_dict(institution_count_dict, orient = \"index\", columns = [\"count\"])\n",
    "inst_df.sort_values(by = 'count', inplace=True, ascending = False)"
   ]
  },
  {
   "cell_type": "markdown",
   "id": "397b2653",
   "metadata": {
    "slideshow": {
     "slide_type": "-"
    }
   },
   "source": [
    "Below is a list of the most prolific NHS organisations for 2019. However, I know this data is flawed as there is inconsistency in the naming of organisations. Larger trusts also have many hospitals underneath them with different names. This where some important entity recognition work, perhaps using an authority control list or some fuzzy matching, needs to be implemented.\n",
    "\n",
    "Once this data is cleaned up it would be possible to analyse the relationship between organisation and OpenAccess status, or article topics. "
   ]
  },
  {
   "cell_type": "code",
   "execution_count": 41,
   "id": "8a95b790",
   "metadata": {
    "slideshow": {
     "slide_type": "-"
    }
   },
   "outputs": [
    {
     "data": {
      "text/html": [
       "<div>\n",
       "<style scoped>\n",
       "    .dataframe tbody tr th:only-of-type {\n",
       "        vertical-align: middle;\n",
       "    }\n",
       "\n",
       "    .dataframe tbody tr th {\n",
       "        vertical-align: top;\n",
       "    }\n",
       "\n",
       "    .dataframe thead th {\n",
       "        text-align: right;\n",
       "    }\n",
       "</style>\n",
       "<table border=\"1\" class=\"dataframe\">\n",
       "  <thead>\n",
       "    <tr style=\"text-align: right;\">\n",
       "      <th></th>\n",
       "      <th>count</th>\n",
       "    </tr>\n",
       "  </thead>\n",
       "  <tbody>\n",
       "    <tr>\n",
       "      <th>King's College London</th>\n",
       "      <td>1931</td>\n",
       "    </tr>\n",
       "    <tr>\n",
       "      <th>University College London</th>\n",
       "      <td>1722</td>\n",
       "    </tr>\n",
       "    <tr>\n",
       "      <th>University of Manchester</th>\n",
       "      <td>1707</td>\n",
       "    </tr>\n",
       "    <tr>\n",
       "      <th>Guy's and St Thomas' NHS Foundation Trust</th>\n",
       "      <td>1648</td>\n",
       "    </tr>\n",
       "    <tr>\n",
       "      <th>University of Oxford</th>\n",
       "      <td>1641</td>\n",
       "    </tr>\n",
       "    <tr>\n",
       "      <th>University of Cambridge</th>\n",
       "      <td>1626</td>\n",
       "    </tr>\n",
       "    <tr>\n",
       "      <th>Imperial College Healthcare NHS Trust</th>\n",
       "      <td>1572</td>\n",
       "    </tr>\n",
       "    <tr>\n",
       "      <th>Imperial College London</th>\n",
       "      <td>1306</td>\n",
       "    </tr>\n",
       "    <tr>\n",
       "      <th>Leeds Teaching Hospitals NHS Trust</th>\n",
       "      <td>1137</td>\n",
       "    </tr>\n",
       "    <tr>\n",
       "      <th>Barts Health NHS Trust</th>\n",
       "      <td>1127</td>\n",
       "    </tr>\n",
       "  </tbody>\n",
       "</table>\n",
       "</div>"
      ],
      "text/plain": [
       "                                           count\n",
       "King's College London                       1931\n",
       "University College London                   1722\n",
       "University of Manchester                    1707\n",
       "Guy's and St Thomas' NHS Foundation Trust   1648\n",
       "University of Oxford                        1641\n",
       "University of Cambridge                     1626\n",
       "Imperial College Healthcare NHS Trust       1572\n",
       "Imperial College London                     1306\n",
       "Leeds Teaching Hospitals NHS Trust          1137\n",
       "Barts Health NHS Trust                      1127"
      ]
     },
     "execution_count": 41,
     "metadata": {},
     "output_type": "execute_result"
    }
   ],
   "source": [
    "inst_df.iloc[:10]\n",
    "\n",
    "# 10 most prolific NHS organisations"
   ]
  },
  {
   "cell_type": "code",
   "execution_count": 38,
   "id": "872aa726",
   "metadata": {
    "slideshow": {
     "slide_type": "-"
    }
   },
   "outputs": [
    {
     "name": "stdout",
     "output_type": "stream",
     "text": [
      "Number of publications for Imperial NHS Trust only: 3281\n",
      "Number of publications for Imperial NHS Trust including different hospital names: 4404\n"
     ]
    }
   ],
   "source": [
    "# Imperial College NHS Trust and its hospitals\n",
    "imperial = inst_df.filter(like='Imperial', axis=0).sum()\n",
    "charing_cross = inst_df.filter(like='Charing', axis=0).sum()\n",
    "chelsea = inst_df.filter(like='Chelsea Hospital', axis=0).sum()\n",
    "hammersmith = inst_df.filter(like='Hammersmith', axis=0).sum()\n",
    "stmarys = inst_df.filter(like=\"St Mary's\", axis=0).sum()\n",
    "westerneye = inst_df.filter(like=\"Western Eye\", axis=0).sum()\n",
    "\n",
    "total_imperial = imperial + charing_cross + chelsea + hammersmith + stmarys + westerneye\n",
    "\n",
    "print(f\"Number of publications for Imperial NHS Trust only: {int(imperial)}\")\n",
    "print(f\"Number of publications for Imperial NHS Trust including different hospital names: {int(total_imperial)}\")"
   ]
  },
  {
   "cell_type": "markdown",
   "id": "3e7057cf",
   "metadata": {
    "slideshow": {
     "slide_type": "slide"
    }
   },
   "source": [
    "## MESH headings"
   ]
  },
  {
   "cell_type": "code",
   "execution_count": 8,
   "id": "9e3054cf",
   "metadata": {
    "slideshow": {
     "slide_type": "-"
    }
   },
   "outputs": [],
   "source": [
    "# get concepts from OpenAlex metadata\n",
    "df['concepts'] = df['openalex_metadata'].apply(lambda x: x.get('concepts', \"NaN\"))\n",
    "def get_concepts(list_with_concepts):\n",
    "  temp_list = []\n",
    "  for i in list_with_concepts:\n",
    "    if i['display_name'] not in temp_list:\n",
    "      temp_list.append(i['display_name'])\n",
    "  return temp_list\n",
    "df['concepts'] = df['concepts'].apply(lambda x: get_concepts(x))"
   ]
  },
  {
   "cell_type": "code",
   "execution_count": 9,
   "id": "eb087875",
   "metadata": {
    "slideshow": {
     "slide_type": "-"
    }
   },
   "outputs": [
    {
     "name": "stderr",
     "output_type": "stream",
     "text": [
      "/tmp/ipykernel_491/3663573514.py:16: SettingWithCopyWarning: \n",
      "A value is trying to be set on a copy of a slice from a DataFrame\n",
      "\n",
      "See the caveats in the documentation: https://pandas.pydata.org/pandas-docs/stable/user_guide/indexing.html#returning-a-view-versus-a-copy\n",
      "  df.major_mesh.iloc[i] = df.concepts.iloc[i]\n"
     ]
    }
   ],
   "source": [
    "# major mesh headings only \n",
    "\n",
    "# get major mesh headings\n",
    "df['major_mesh'] = df['openalex_metadata'].apply(lambda x: x.get('mesh', \"NaN\"))\n",
    "def get_major_mesh(list_with_mesh):\n",
    "  temp_list = []\n",
    "  for topic_list in list_with_mesh:\n",
    "    if topic_list['is_major_topic'] == True:\n",
    "      if topic_list['descriptor_name'] not in temp_list:\n",
    "        temp_list.append(topic_list['descriptor_name'])\n",
    "  return temp_list\n",
    "df['major_mesh'] = df['major_mesh'].apply(lambda x: get_major_mesh(x))\n",
    "\n",
    "for i in range(df.shape[0]):\n",
    "  if len(df.major_mesh.iloc[i]) == 0:\n",
    "    df.major_mesh.iloc[i] = df.concepts.iloc[i]\n",
    "\n",
    "df['major_mesh'].apply(lambda x: list(set(x)))\n",
    "\n",
    "\n",
    "# count number of occurences for topic\n",
    "major_concept_count_dict = {}\n",
    "for i in range(df.shape[0]):\n",
    "  concept_list = df.major_mesh.iloc[i]\n",
    "  for i in concept_list:\n",
    "    if i not in major_concept_count_dict:\n",
    "      major_concept_count_dict[i] = 1\n",
    "    else: \n",
    "      major_concept_count_dict[i] += 1\n",
    "\n",
    "## create df of concept counts only\n",
    "major_concept_df = pd.DataFrame.from_dict(major_concept_count_dict, orient = \"index\", columns = [\"count\"])\n",
    "major_concept_df.sort_values(by = 'count', inplace=True, ascending = False)\n",
    "major_concept_df[major_concept_df['count'] >= 50]\n",
    "\n",
    "# remove not useful subject headings\n",
    "major_concept_df.drop(['Medicine', 'Internal medicine', 'MEDLINE',  'Disease'] ,inplace = True)"
   ]
  },
  {
   "cell_type": "markdown",
   "id": "db22ae61",
   "metadata": {
    "slideshow": {
     "slide_type": "-"
    }
   },
   "source": [
    "The table below shows the count of the most frequently occuring MESH Major topics or OpenAlex concepts. Topics that were very general, such as 'Medicine', 'Internal medicine', 'MEDLINE', and 'Disease' were dropped.\n",
    "\n",
    "Further analysis could map the frequently occuring MESH Major topics with the OpenAccess status for their corresponding papers, to see if specific topics were more likely to be OpenAccess, or not."
   ]
  },
  {
   "cell_type": "code",
   "execution_count": 10,
   "id": "47129de6",
   "metadata": {
    "scrolled": true,
    "slideshow": {
     "slide_type": "-"
    }
   },
   "outputs": [
    {
     "data": {
      "text/html": [
       "<div>\n",
       "<style scoped>\n",
       "    .dataframe tbody tr th:only-of-type {\n",
       "        vertical-align: middle;\n",
       "    }\n",
       "\n",
       "    .dataframe tbody tr th {\n",
       "        vertical-align: top;\n",
       "    }\n",
       "\n",
       "    .dataframe thead th {\n",
       "        text-align: right;\n",
       "    }\n",
       "</style>\n",
       "<table border=\"1\" class=\"dataframe\">\n",
       "  <thead>\n",
       "    <tr style=\"text-align: right;\">\n",
       "      <th></th>\n",
       "      <th>count</th>\n",
       "    </tr>\n",
       "  </thead>\n",
       "  <tbody>\n",
       "    <tr>\n",
       "      <th>Surgery</th>\n",
       "      <td>612</td>\n",
       "    </tr>\n",
       "    <tr>\n",
       "      <th>Psychology</th>\n",
       "      <td>521</td>\n",
       "    </tr>\n",
       "    <tr>\n",
       "      <th>Intensive care medicine</th>\n",
       "      <td>398</td>\n",
       "    </tr>\n",
       "    <tr>\n",
       "      <th>Radiology</th>\n",
       "      <td>357</td>\n",
       "    </tr>\n",
       "    <tr>\n",
       "      <th>Magnetic Resonance Imaging</th>\n",
       "      <td>335</td>\n",
       "    </tr>\n",
       "    <tr>\n",
       "      <th>Quality of Life</th>\n",
       "      <td>325</td>\n",
       "    </tr>\n",
       "    <tr>\n",
       "      <th>Breast Neoplasms</th>\n",
       "      <td>311</td>\n",
       "    </tr>\n",
       "    <tr>\n",
       "      <th>Postoperative Complications</th>\n",
       "      <td>289</td>\n",
       "    </tr>\n",
       "    <tr>\n",
       "      <th>Neoplasms</th>\n",
       "      <td>284</td>\n",
       "    </tr>\n",
       "    <tr>\n",
       "      <th>Prostatic Neoplasms</th>\n",
       "      <td>274</td>\n",
       "    </tr>\n",
       "  </tbody>\n",
       "</table>\n",
       "</div>"
      ],
      "text/plain": [
       "                             count\n",
       "Surgery                        612\n",
       "Psychology                     521\n",
       "Intensive care medicine        398\n",
       "Radiology                      357\n",
       "Magnetic Resonance Imaging     335\n",
       "Quality of Life                325\n",
       "Breast Neoplasms               311\n",
       "Postoperative Complications    289\n",
       "Neoplasms                      284\n",
       "Prostatic Neoplasms            274"
      ]
     },
     "execution_count": 10,
     "metadata": {},
     "output_type": "execute_result"
    }
   ],
   "source": [
    "major_concept_df.iloc[:10]"
   ]
  },
  {
   "cell_type": "markdown",
   "id": "8cbbc11e",
   "metadata": {
    "slideshow": {
     "slide_type": "slide"
    }
   },
   "source": [
    "## Natural Language Processing of abstract data"
   ]
  },
  {
   "cell_type": "code",
   "execution_count": 47,
   "id": "18110c91",
   "metadata": {
    "slideshow": {
     "slide_type": "-"
    }
   },
   "outputs": [
    {
     "data": {
      "text/html": [
       "<div>\n",
       "<style scoped>\n",
       "    .dataframe tbody tr th:only-of-type {\n",
       "        vertical-align: middle;\n",
       "    }\n",
       "\n",
       "    .dataframe tbody tr th {\n",
       "        vertical-align: top;\n",
       "    }\n",
       "\n",
       "    .dataframe thead th {\n",
       "        text-align: right;\n",
       "    }\n",
       "</style>\n",
       "<table border=\"1\" class=\"dataframe\">\n",
       "  <thead>\n",
       "    <tr style=\"text-align: right;\">\n",
       "      <th></th>\n",
       "      <th>abstract</th>\n",
       "      <th>clean_text</th>\n",
       "    </tr>\n",
       "  </thead>\n",
       "  <tbody>\n",
       "    <tr>\n",
       "      <th>0</th>\n",
       "      <td>Neuromyelitis optica spectrum disorder (NMOSD)...</td>\n",
       "      <td>['neuromyelitis', 'optica', 'spectrum', 'disor...</td>\n",
       "    </tr>\n",
       "    <tr>\n",
       "      <th>1</th>\n",
       "      <td>Erythromelalgia is a condition characterized b...</td>\n",
       "      <td>['erythromelalgia', 'condition', 'characterize...</td>\n",
       "    </tr>\n",
       "    <tr>\n",
       "      <th>3</th>\n",
       "      <td>Mycosis fungoides (MF) represents the majority...</td>\n",
       "      <td>['mycosis', 'fungoides', 'mf', 'represents', '...</td>\n",
       "    </tr>\n",
       "    <tr>\n",
       "      <th>4</th>\n",
       "      <td>BACKGROUND: Malignant middle cerebral artery i...</td>\n",
       "      <td>['malignant', 'middle', 'cerebral', 'artery', ...</td>\n",
       "    </tr>\n",
       "    <tr>\n",
       "      <th>5</th>\n",
       "      <td>Update of    Cochrane Database Syst Rev. 2015 ...</td>\n",
       "      <td>['update', 'cochrane', 'database', 'syst', 're...</td>\n",
       "    </tr>\n",
       "  </tbody>\n",
       "</table>\n",
       "</div>"
      ],
      "text/plain": [
       "                                            abstract  \\\n",
       "0  Neuromyelitis optica spectrum disorder (NMOSD)...   \n",
       "1  Erythromelalgia is a condition characterized b...   \n",
       "3  Mycosis fungoides (MF) represents the majority...   \n",
       "4  BACKGROUND: Malignant middle cerebral artery i...   \n",
       "5  Update of    Cochrane Database Syst Rev. 2015 ...   \n",
       "\n",
       "                                          clean_text  \n",
       "0  ['neuromyelitis', 'optica', 'spectrum', 'disor...  \n",
       "1  ['erythromelalgia', 'condition', 'characterize...  \n",
       "3  ['mycosis', 'fungoides', 'mf', 'represents', '...  \n",
       "4  ['malignant', 'middle', 'cerebral', 'artery', ...  \n",
       "5  ['update', 'cochrane', 'database', 'syst', 're...  "
      ]
     },
     "execution_count": 47,
     "metadata": {},
     "output_type": "execute_result"
    }
   ],
   "source": [
    "data = pd.DataFrame(df.abstract)\n",
    "\n",
    "# Added some medical specific terminology to the stopwords list - this could be refined\n",
    "stop_words = list(set(stopwords.words('english')))\n",
    "medical_words = ['abstract', 'background', 'methods', 'results', 'conclusion', 'medline', 'patient']\n",
    "stop_words += medical_words\n",
    "\n",
    "# Create function to clean text\n",
    "def clean(text):\n",
    "    for punctuation in string.punctuation:\n",
    "        text = text.replace(punctuation, ' ') # Remove Punctuation\n",
    "    lowercased = text.lower() # Lower Case\n",
    "    tokenized = word_tokenize(lowercased) # Tokenize\n",
    "    words_only = [word for word in tokenized if word.isalpha()] # Remove numbers\n",
    "    without_stopwords = [word for word in words_only if not word in stop_words] # Remove Stop Words\n",
    "    lemma=WordNetLemmatizer() # Initiate Lemmatizer\n",
    "    lemmatized = [lemma.lemmatize(word) for word in without_stopwords] # Lemmatize\n",
    "    return lemmatized\n",
    "\n",
    "# Apply cleaning function\n",
    "data['clean_text'] = data.abstract.apply(clean)\n",
    "data['clean_text'] = data['clean_text'].astype('str')\n",
    "\n",
    "data.head()"
   ]
  },
  {
   "cell_type": "markdown",
   "id": "ed8f03dd",
   "metadata": {
    "slideshow": {
     "slide_type": "subslide"
    }
   },
   "source": [
    "### LDA analysis of abstract information to try and get primary topics out\n",
    "\n",
    "This wasn't very successful. Next steps:\n",
    "- Doing a gridsearch to find best number of components for the LDA \n",
    "- Using pretrained word embedding e.g. Biobert or Word2Vec to improve the LDA performance\n",
    "\n",
    "Further resources:\n",
    "- https://academic.oup.com/bioinformatics/article/36/4/1234/5566506 \n",
    "- https://github.com/naver/biobert-pretrained\n",
    "- https://www.kaggle.com/code/jl18pg052/word-embedding-word2vec-topic-modelling-lda/\n",
    "- https://www.frontiersin.org/articles/10.3389/frai.2020.00042/full\n",
    "- https://journals.plos.org/plosone/article?id=10.1371/journal.pone.0243208\n",
    "- https://www.frontiersin.org/articles/10.3389/fdgth.2021.686720/full "
   ]
  },
  {
   "cell_type": "code",
   "execution_count": 48,
   "id": "9a4efca6",
   "metadata": {
    "slideshow": {
     "slide_type": "-"
    }
   },
   "outputs": [],
   "source": [
    "from sklearn.decomposition import LatentDirichletAllocation\n",
    "from sklearn.feature_extraction.text import CountVectorizer\n",
    "\n",
    "vectorizer = CountVectorizer()\n",
    "data_vectorized = vectorizer.fit_transform(data['clean_text'])\n",
    "lda_model = LatentDirichletAllocation(n_components=100)\n",
    "lda_vectors = lda_model.fit_transform(data_vectorized)"
   ]
  },
  {
   "cell_type": "markdown",
   "id": "5c94f0a8",
   "metadata": {
    "slideshow": {
     "slide_type": "-"
    }
   },
   "source": [
    "As you can see from the top 10 topics obtained through LDA analysis, more work could be done to improve the stopwords list (especially with topic 9, for example). This could improve the performance of the model"
   ]
  },
  {
   "cell_type": "code",
   "execution_count": 49,
   "id": "3cc77fb6",
   "metadata": {
    "slideshow": {
     "slide_type": "-"
    }
   },
   "outputs": [
    {
     "name": "stdout",
     "output_type": "stream",
     "text": [
      "Topic 0:\n",
      "[('patient', 591.1035551078727), ('year', 517.8390761978613), ('copd', 381.71130377191486), ('exacerbation', 334.0111356704396), ('rate', 333.13020718048955), ('cd', 272.67989693172046), ('disease', 230.5299361381919), ('ibd', 213.43818825907115), ('diagnosis', 206.45502701590286), ('incidence', 204.936798635697)]\n",
      "Topic 1:\n",
      "[('catheter', 290.48672393465404), ('blood', 278.65206239216775), ('nutrition', 175.20068184517564), ('infusion', 170.22987698314896), ('csf', 159.7184395342562), ('hpn', 127.00999999998606), ('parenteral', 115.20116834154958), ('patient', 112.62887595801172), ('intestinal', 108.35077771898607), ('unit', 83.29056104542725)]\n",
      "Topic 2:\n",
      "[('self', 968.0574688878814), ('disorder', 494.1254286122482), ('seizure', 423.552086599376), ('symptom', 396.70518908494813), ('harm', 347.5433728178737), ('autism', 321.6410134261675), ('asd', 320.00999999996804), ('epilepsy', 305.4192980402645), ('social', 290.7210015100881), ('associated', 272.7495307516921)]\n",
      "Topic 3:\n",
      "[('patient', 359.1188762307052), ('icd', 286.64838976898227), ('hr', 207.7283485014913), ('device', 205.33189586265428), ('ci', 182.97422510896305), ('ventricular', 169.30421826430137), ('year', 138.1366583631707), ('associated', 137.11277674005183), ('higher', 133.4770763210309), ('implantation', 120.29391863146911)]\n",
      "Topic 4:\n",
      "[('patient', 959.7178089352676), ('stent', 441.13762900725914), ('aneurysm', 329.22611598120216), ('artery', 321.09254621283213), ('complication', 319.0120748480397), ('vascular', 287.61291475336867), ('ed', 279.89976263754784), ('management', 255.62282394272086), ('case', 254.28884133517676), ('repair', 252.74888375074323)]\n",
      "Topic 5:\n",
      "[('patient', 210.74157750995232), ('ablation', 172.30062180476784), ('mapping', 135.20035033032312), ('psa', 100.51555943165317), ('joint', 81.12477562975128), ('site', 77.48536181692965), ('study', 75.94927885191157), ('atrial', 70.83117006497156), ('anaphylaxis', 69.37667399285638), ('challenge', 68.0950796008061)]\n",
      "Topic 6:\n",
      "[('exercise', 860.1547236211171), ('heart', 296.1974726632559), ('patient', 246.8222735028407), ('failure', 246.26479785621913), ('pr', 215.09829291328057), ('min', 165.33923216637172), ('cardiac', 161.46378358846607), ('paramedic', 144.97871439125274), ('acid', 118.39252307632216), ('ml', 108.87914537220064)]\n",
      "Topic 7:\n",
      "[('reaction', 87.89515534485284), ('measure', 77.82596628745955), ('multimorbidity', 69.99014221844848), ('used', 65.86423801137323), ('outcome', 63.69570123771088), ('case', 59.64866478606475), ('tv', 58.187638818875), ('using', 57.89665930294407), ('hypersensitivity', 53.70434563230158), ('patient', 53.079737606889154)]\n",
      "Topic 8:\n",
      "[('patient', 569.471612037016), ('respiratory', 567.0965792087655), ('lung', 562.9923937295305), ('pulmonary', 443.74101842606177), ('chronic', 264.7015899095981), ('treatment', 232.90163219979422), ('ventilation', 220.4730071153301), ('clinical', 205.69392761347112), ('disease', 196.49261618711523), ('therapy', 185.74273900224145)]\n",
      "Topic 9:\n",
      "[('comment', 3493.0099999999375), ('erratum', 664.0099999999944), ('med', 647.9407846458698), ('dec', 530.0099999999812), ('apr', 491.0099999999803), ('sep', 483.00999999998334), ('jul', 470.0099999999928), ('oct', 466.8297506880897), ('surg', 458.00999999999175), ('may', 456.99570306224297)]\n",
      "Topic 10:\n",
      "[('fracture', 1176.7233145354473), ('patient', 822.165811444962), ('glaucoma', 306.99165930729555), ('fixation', 296.8526924415228), ('year', 259.64182292481735), ('group', 219.2736988763285), ('uveitis', 157.67280333125862), ('study', 153.10089826590323), ('distal', 145.5576168560971), ('union', 144.43688065084848)]\n"
     ]
    }
   ],
   "source": [
    "def print_topics(model, vectorizer):\n",
    "    for idx, topic in enumerate(model.components_):\n",
    "        if idx <= 10:\n",
    "            print(\"Topic %d:\" % (idx))\n",
    "            print([(vectorizer.get_feature_names_out()[i], topic[i])\n",
    "                            for i in topic.argsort()[:-10 - 1:-1]])\n",
    "            \n",
    "print_topics(lda_model, vectorizer)"
   ]
  },
  {
   "cell_type": "markdown",
   "id": "c535c91e",
   "metadata": {
    "slideshow": {
     "slide_type": "slide"
    }
   },
   "source": [
    "# Next steps\n",
    "\n",
    "<b>Data Sourcing</b>\n",
    "- Explore usage of Pubmed Entrez API or Selenium to improve data sourcing process\n",
    "\n",
    "<b>Data augmentation and processing</b>\n",
    "- Explore usage of Google BigQuery for storing data\n",
    "\n",
    "<b>Author affiliation</b>\n",
    "- Create authority list for improved institution detection\n",
    "- Add OA status to institution DataFrame for analysis\n",
    "\n",
    "<b>MESH headings</b>\n",
    "- Map frequently occuring MESH Major topics with the OpenAccess status for their corresponding papers\n",
    "\n",
    "<b>NLP processing of abstract text for topic detection</b>\n",
    "- Use WordNet/BioBERT for improved text processing/vectorisation to improve topic detection\n",
    "- Improve stopwords list for abstracts\n",
    "- Do gridsearch to identify best number of LDA topics\n",
    "- Once topic detection model is optimised, allocate topics to papers, try and match these up to MESH headings perhaps? and conduct analysis in relation to OA status\n"
   ]
  }
 ],
 "metadata": {
  "celltoolbar": "Slideshow",
  "kernelspec": {
   "display_name": "Python 3 (ipykernel)",
   "language": "python",
   "name": "python3"
  },
  "language_info": {
   "codemirror_mode": {
    "name": "ipython",
    "version": 3
   },
   "file_extension": ".py",
   "mimetype": "text/x-python",
   "name": "python",
   "nbconvert_exporter": "python",
   "pygments_lexer": "ipython3",
   "version": "3.8.12"
  },
  "toc": {
   "base_numbering": 1,
   "nav_menu": {},
   "number_sections": true,
   "sideBar": true,
   "skip_h1_title": true,
   "title_cell": "Table of Contents",
   "title_sidebar": "Contents",
   "toc_cell": false,
   "toc_position": {},
   "toc_section_display": true,
   "toc_window_display": true
  }
 },
 "nbformat": 4,
 "nbformat_minor": 5
}
