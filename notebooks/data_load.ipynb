{
 "cells": [
  {
   "cell_type": "code",
   "execution_count": 2,
   "id": "abe1262c",
   "metadata": {},
   "outputs": [],
   "source": [
    "import re"
   ]
  },
  {
   "cell_type": "code",
   "execution_count": 3,
   "id": "e1cd9d43",
   "metadata": {},
   "outputs": [],
   "source": [
    "def read_txt():\n",
    "    filepath = \"../nhs_oa/data/2019abstract-nhsAffilia-set1.txt\"\n",
    "    with open(filepath, encoding=\"utf-8\") as f:\n",
    "        bib_info_str = f.read()\n",
    "    return bib_info_str"
   ]
  },
  {
   "cell_type": "code",
   "execution_count": 4,
   "id": "1f985c53",
   "metadata": {},
   "outputs": [
    {
     "data": {
      "text/plain": [
       "7082"
      ]
     },
     "execution_count": 4,
     "metadata": {},
     "output_type": "execute_result"
    }
   ],
   "source": [
    "bib_info_str = read_txt()\n",
    "splitter = re.compile(\"(\\\\n\\\\n\\\\n\\d+. )\")\n",
    "bib_info_list = re.split(splitter, bib_info_str)\n",
    "new_list = []\n",
    "\n",
    "for i in range(len(bib_info_list)):\n",
    "    if i % 2 == 0:\n",
    "        new_list.append(bib_info_list[i])\n",
    "len(new_list)"
   ]
  },
  {
   "cell_type": "code",
   "execution_count": 5,
   "id": "d91a95fc",
   "metadata": {},
   "outputs": [],
   "source": [
    "info_dict = {\n",
    "    \"pmid\": [],\n",
    "    \"doi\": [],\n",
    "    \"affiliations\": []\n",
    "}"
   ]
  },
  {
   "cell_type": "code",
   "execution_count": 6,
   "id": "460510af",
   "metadata": {},
   "outputs": [
    {
     "name": "stdout",
     "output_type": "stream",
     "text": [
      "Completed. 7082 articles have a PMID. 0 do not have a PMID\n"
     ]
    }
   ],
   "source": [
    "#get PMID\n",
    "pmid_list = []\n",
    "pmid_errors = []\n",
    "for i in range(len(new_list)):\n",
    "    pmid_re = re.findall(r\"(PMID: )(\\d+)\", new_list[i])\n",
    "    if pmid_re:\n",
    "        pmid = pmid_re[0][1]\n",
    "        pmid_list.append(pmid)\n",
    "    else:\n",
    "        errors.append(i)\n",
    "info_dict['pmid'] = pmid_list\n",
    "print(f\"Completed. {len(pmid_list)} articles have a PMID. {len(pmid_errors)} do not have a PMID\")"
   ]
  },
  {
   "cell_type": "code",
   "execution_count": 7,
   "id": "ad2214b9",
   "metadata": {},
   "outputs": [
    {
     "name": "stdout",
     "output_type": "stream",
     "text": [
      "Completed. 7082 articles have a DOI. 69 do not have a DOI\n"
     ]
    }
   ],
   "source": [
    "#get doi\n",
    "doi_errors = []\n",
    "doi_list = []\n",
    "for i in range(len(new_list)):\n",
    "    doi_re = re.findall(r\"(DOI: )(.+)(\\n)\", new_list[i])\n",
    "    if doi_re:\n",
    "        doi = doi_re[0][1]\n",
    "        doi_list.append(doi)\n",
    "    else:\n",
    "        doi_list.append('None')\n",
    "        doi_errors.append(i)\n",
    "info_dict['doi'] = doi_list\n",
    "print(f\"Completed. {len(doi_list)} articles have a DOI. {len(doi_errors)} do not have a DOI\")"
   ]
  },
  {
   "cell_type": "code",
   "execution_count": 8,
   "id": "7bb5a44d",
   "metadata": {},
   "outputs": [],
   "source": [
    "# #get authors\n",
    "# no_authors = []\n",
    "# full_authors_list = []\n",
    "# for i in range(5):\n",
    "#     authors = re.findall(r\"(.\\n\\n)(.+)(Author information)\", new_list[i], re.DOTALL)\n",
    "#     nums = re.compile(\"\\(\\d+\\)\")\n",
    "#     if authors:\n",
    "#         author_names = authors[0][1]\n",
    "#         author_list_temp =\n",
    "#         author_list = list(author_names.split(\",\"))\n",
    "#         author_list_clean = []\n",
    "#         for author in author_list:\n",
    "#             author_clean = re.split(nums, author)[0].strip()\n",
    "#             author_clean = author_clean.replace(\"\\n\", \"\")\n",
    "#             author_list_clean.append(author_clean)        \n",
    "#         full_authors_list.append(author_list_clean)\n",
    "#     else:\n",
    "#         no_authors.append(i)\n",
    "#     info_dict['authors'] = full_authors_list\n",
    "# print(f\"{len(no_authors)} articles did not have an author\")\n",
    "# # print(full_authors_list)"
   ]
  },
  {
   "cell_type": "code",
   "execution_count": 9,
   "id": "1971b626",
   "metadata": {},
   "outputs": [
    {
     "name": "stdout",
     "output_type": "stream",
     "text": [
      "Completed. 7082 articles have some affiliation info. 321 do not have affiliation info\n"
     ]
    }
   ],
   "source": [
    "# get affiliations\n",
    "affil_errors = []\n",
    "final_affil_list = []\n",
    "nums = re.compile(\"\\(\\d+\\)\")\n",
    "for i in range(len(new_list)):\n",
    "    affils = re.findall(r\"\\n\\(\\d+\\).+\\n?.+\", new_list[i])\n",
    "    affils_list = []\n",
    "    temp_list = []\n",
    "    if affils:\n",
    "        for full_affil in affils:\n",
    "            full_affil_list = list(full_affil.split(\",\"))\n",
    "            for each in full_affil_list:\n",
    "                if ('hospital' in each.lower() or 'nhs' in each.lower()) and \"@\" not in each.lower():\n",
    "                    nonums = re.split(nums, each)\n",
    "                    for numless in nonums:\n",
    "                        if ('hospital' in numless.lower() or 'nhs' in numless.lower()):\n",
    "                            temp_list.append(numless)\n",
    "        for affil in temp_list:\n",
    "            affils_list.append(affil.replace(\"\\n\", \"\").strip())\n",
    "        final_affil_list.append(affils_list)\n",
    "        if affils_list == []:\n",
    "            affil_errors.append(i)\n",
    "    else:\n",
    "        affil_errors.append(i)\n",
    "info_dict['affiliations'] = final_affil_list\n",
    "\n",
    "print(f\"Completed. {len(final_affil_list)} articles have some affiliation info. {len(affil_errors)} do not have affiliation info\")\n"
   ]
  },
  {
   "cell_type": "code",
   "execution_count": 10,
   "id": "0140e789",
   "metadata": {},
   "outputs": [],
   "source": [
    "for i in info_dict.keys():\n",
    "    assert(len(info_dict[i])) == len(new_list)"
   ]
  },
  {
   "cell_type": "code",
   "execution_count": 11,
   "id": "4953623d",
   "metadata": {},
   "outputs": [
    {
     "data": {
      "text/plain": [
       "'1. Clin Med (Lond). 2019 Mar;19(2):169-176. doi: 10.7861/clinmedicine.19-2-169.\\n\\nNeuromyelitis optica spectrum disorders.\\n\\nHuda S(1), Whittam D(2), Bhojak M(2), Chamberlain J(3), Noonan C(2), Jacob \\nA(2)(2).\\n\\nAuthor information:\\n(1)Walton Centre NHS Foundation Trust, Liverpool, UK shuda@nhs.net.\\n(2)Walton Centre NHS Foundation Trust, Liverpool, UK.\\n(3)Ipsen, Wrexham, UK.\\n\\nNeuromyelitis optica spectrum disorder (NMOSD) is an uncommon antibody-mediated \\ndisease of the central nervous system. Long segments of spinal cord inflammation \\n(myelitis), severe optic neuritis, and/or bouts of intractable vomiting and \\nhiccoughs (area postrema syndrome) are classic presentations of the disease and \\nmay alert the clinician to the diagnosis. Untreated, approximately 50% of NMOSD \\npatients will be wheelchair users and blind, and a third will have died within 5 \\nyears of their first attack. Unlike multiple sclerosis, a progressive clinical \\ncourse is very unusual and the accrual of disability is related to relapses. \\nApproximately 75% of patients have antibodies against aquaporin-4, a water \\nchannel expressed on astrocytes. Relapses are treated aggressively to prevent \\nresidual disability with high-dose steroids and often plasma exchange. Relapse \\nprevention is crucial and achieved with long-term immunosuppression. In this \\narticle we review the pathogenesis, clinical features, diagnosis and management \\nof NMOSD.\\n\\n© Royal College of Physicians 2019. All rights reserved.\\n\\nDOI: 10.7861/clinmedicine.19-2-169\\nPMCID: PMC6454358\\nPMID: 30872305 [Indexed for MEDLINE]'"
      ]
     },
     "execution_count": 11,
     "metadata": {},
     "output_type": "execute_result"
    }
   ],
   "source": [
    "new_list[0]"
   ]
  },
  {
   "cell_type": "code",
   "execution_count": null,
   "id": "f4d09d9d",
   "metadata": {},
   "outputs": [],
   "source": []
  }
 ],
 "metadata": {
  "kernelspec": {
   "display_name": "Python 3 (ipykernel)",
   "language": "python",
   "name": "python3"
  },
  "language_info": {
   "codemirror_mode": {
    "name": "ipython",
    "version": 3
   },
   "file_extension": ".py",
   "mimetype": "text/x-python",
   "name": "python",
   "nbconvert_exporter": "python",
   "pygments_lexer": "ipython3",
   "version": "3.8.12"
  },
  "toc": {
   "base_numbering": 1,
   "nav_menu": {},
   "number_sections": true,
   "sideBar": true,
   "skip_h1_title": false,
   "title_cell": "Table of Contents",
   "title_sidebar": "Contents",
   "toc_cell": false,
   "toc_position": {},
   "toc_section_display": true,
   "toc_window_display": false
  }
 },
 "nbformat": 4,
 "nbformat_minor": 5
}
