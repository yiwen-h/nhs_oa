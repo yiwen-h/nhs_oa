{
 "cells": [
  {
   "cell_type": "code",
   "execution_count": 42,
   "id": "8b0f1ba5",
   "metadata": {},
   "outputs": [],
   "source": [
    "import pandas as pd\n",
    "import numpy as np\n",
    "from ast import literal_eval"
   ]
  },
  {
   "cell_type": "code",
   "execution_count": 43,
   "id": "230973de",
   "metadata": {},
   "outputs": [
    {
     "data": {
      "text/html": [
       "<div>\n",
       "<style scoped>\n",
       "    .dataframe tbody tr th:only-of-type {\n",
       "        vertical-align: middle;\n",
       "    }\n",
       "\n",
       "    .dataframe tbody tr th {\n",
       "        vertical-align: top;\n",
       "    }\n",
       "\n",
       "    .dataframe thead th {\n",
       "        text-align: right;\n",
       "    }\n",
       "</style>\n",
       "<table border=\"1\" class=\"dataframe\">\n",
       "  <thead>\n",
       "    <tr style=\"text-align: right;\">\n",
       "      <th></th>\n",
       "      <th>pmid</th>\n",
       "      <th>doi</th>\n",
       "      <th>affiliations</th>\n",
       "      <th>abstract</th>\n",
       "      <th>date_published</th>\n",
       "      <th>author_list</th>\n",
       "      <th>journal title</th>\n",
       "      <th>article title</th>\n",
       "      <th>num_citations_crossref</th>\n",
       "      <th>num_references_crossref</th>\n",
       "      <th>date_published_upw</th>\n",
       "      <th>is_oa</th>\n",
       "      <th>oa_status</th>\n",
       "      <th>oa_locations</th>\n",
       "      <th>genre</th>\n",
       "    </tr>\n",
       "  </thead>\n",
       "  <tbody>\n",
       "    <tr>\n",
       "      <th>0</th>\n",
       "      <td>30872305</td>\n",
       "      <td>10.7861/clinmedicine.19-2-169</td>\n",
       "      <td>['Walton Centre NHS Foundation Trust']</td>\n",
       "      <td>Neuromyelitis optica spectrum disorder (NMOSD)...</td>\n",
       "      <td>[2019, 3]</td>\n",
       "      <td>['Huda, Saif', 'Whittam, Dan', 'Bhojak, Manees...</td>\n",
       "      <td>Clinical Medicine</td>\n",
       "      <td>Neuromyelitis optica spectrum disorders</td>\n",
       "      <td>84.0</td>\n",
       "      <td>60.0</td>\n",
       "      <td>2019-03-01</td>\n",
       "      <td>True</td>\n",
       "      <td>gold</td>\n",
       "      <td>[{'updated': '2020-11-23T10:26:42.514123', 'ur...</td>\n",
       "      <td>journal-article</td>\n",
       "    </tr>\n",
       "    <tr>\n",
       "      <th>1</th>\n",
       "      <td>30609105</td>\n",
       "      <td>10.1111/ced.13891</td>\n",
       "      <td>['Sheffield Teaching Hospitals NHS Foundation ...</td>\n",
       "      <td>Erythromelalgia is a condition characterized b...</td>\n",
       "      <td>[2019, 1, 4]</td>\n",
       "      <td>['Mann, N.', 'King, T.', 'Murphy, R.']</td>\n",
       "      <td>Clinical and Experimental Dermatology</td>\n",
       "      <td>Review of primary and secondary erythromelalgia</td>\n",
       "      <td>24.0</td>\n",
       "      <td>29.0</td>\n",
       "      <td>2019-01-04</td>\n",
       "      <td>True</td>\n",
       "      <td>bronze</td>\n",
       "      <td>[{'updated': '2021-09-15T06:51:20.019047', 'ur...</td>\n",
       "      <td>journal-article</td>\n",
       "    </tr>\n",
       "    <tr>\n",
       "      <th>3</th>\n",
       "      <td>30525757</td>\n",
       "      <td>10.21037/cco.2018.11.03</td>\n",
       "      <td>['University Hospital Birmingham', 'University...</td>\n",
       "      <td>Mycosis fungoides (MF) represents the majority...</td>\n",
       "      <td>[2019, 3]</td>\n",
       "      <td>['Das, Suparna', 'Mitchell, Patrick', 'Ross, N...</td>\n",
       "      <td>World Neurosurgery</td>\n",
       "      <td>Decompressive Hemicraniectomy in the Treatment...</td>\n",
       "      <td>28.0</td>\n",
       "      <td>40.0</td>\n",
       "      <td>2019-03-01</td>\n",
       "      <td>False</td>\n",
       "      <td>closed</td>\n",
       "      <td>[]</td>\n",
       "      <td>journal-article</td>\n",
       "    </tr>\n",
       "    <tr>\n",
       "      <th>4</th>\n",
       "      <td>30500591</td>\n",
       "      <td>10.1016/j.wneu.2018.11.176</td>\n",
       "      <td>['Derriford Hospital']</td>\n",
       "      <td>BACKGROUND: Malignant middle cerebral artery i...</td>\n",
       "      <td>[2019, 1, 18]</td>\n",
       "      <td>['Ahmad, Gaity', 'Baker, Jade', 'Finnerty, Joh...</td>\n",
       "      <td>Cochrane Database of Systematic Reviews</td>\n",
       "      <td>Laparoscopic entry techniques</td>\n",
       "      <td>20.0</td>\n",
       "      <td>125.0</td>\n",
       "      <td>2019-01-18</td>\n",
       "      <td>True</td>\n",
       "      <td>green</td>\n",
       "      <td>[{'updated': None, 'url': 'https://europepmc.o...</td>\n",
       "      <td>journal-article</td>\n",
       "    </tr>\n",
       "    <tr>\n",
       "      <th>5</th>\n",
       "      <td>30657163</td>\n",
       "      <td>10.1002/14651858.CD006583.pub5</td>\n",
       "      <td>['Pennine Acute Hospitals NHS Trust']</td>\n",
       "      <td>Update of    Cochrane Database Syst Rev. 2015 ...</td>\n",
       "      <td>[2018, 9, 21]</td>\n",
       "      <td>['Al-Lamee, Rasha K', 'Nowbar, Alexandra N', '...</td>\n",
       "      <td>Heart</td>\n",
       "      <td>Percutaneous coronary intervention for stable ...</td>\n",
       "      <td>19.0</td>\n",
       "      <td>48.0</td>\n",
       "      <td>2018-09-21</td>\n",
       "      <td>False</td>\n",
       "      <td>closed</td>\n",
       "      <td>[]</td>\n",
       "      <td>journal-article</td>\n",
       "    </tr>\n",
       "  </tbody>\n",
       "</table>\n",
       "</div>"
      ],
      "text/plain": [
       "       pmid                             doi  \\\n",
       "0  30872305   10.7861/clinmedicine.19-2-169   \n",
       "1  30609105               10.1111/ced.13891   \n",
       "3  30525757         10.21037/cco.2018.11.03   \n",
       "4  30500591      10.1016/j.wneu.2018.11.176   \n",
       "5  30657163  10.1002/14651858.CD006583.pub5   \n",
       "\n",
       "                                        affiliations  \\\n",
       "0             ['Walton Centre NHS Foundation Trust']   \n",
       "1  ['Sheffield Teaching Hospitals NHS Foundation ...   \n",
       "3  ['University Hospital Birmingham', 'University...   \n",
       "4                             ['Derriford Hospital']   \n",
       "5              ['Pennine Acute Hospitals NHS Trust']   \n",
       "\n",
       "                                            abstract date_published  \\\n",
       "0  Neuromyelitis optica spectrum disorder (NMOSD)...      [2019, 3]   \n",
       "1  Erythromelalgia is a condition characterized b...   [2019, 1, 4]   \n",
       "3  Mycosis fungoides (MF) represents the majority...      [2019, 3]   \n",
       "4  BACKGROUND: Malignant middle cerebral artery i...  [2019, 1, 18]   \n",
       "5  Update of    Cochrane Database Syst Rev. 2015 ...  [2018, 9, 21]   \n",
       "\n",
       "                                         author_list  \\\n",
       "0  ['Huda, Saif', 'Whittam, Dan', 'Bhojak, Manees...   \n",
       "1             ['Mann, N.', 'King, T.', 'Murphy, R.']   \n",
       "3  ['Das, Suparna', 'Mitchell, Patrick', 'Ross, N...   \n",
       "4  ['Ahmad, Gaity', 'Baker, Jade', 'Finnerty, Joh...   \n",
       "5  ['Al-Lamee, Rasha K', 'Nowbar, Alexandra N', '...   \n",
       "\n",
       "                             journal title  \\\n",
       "0                        Clinical Medicine   \n",
       "1    Clinical and Experimental Dermatology   \n",
       "3                       World Neurosurgery   \n",
       "4  Cochrane Database of Systematic Reviews   \n",
       "5                                    Heart   \n",
       "\n",
       "                                       article title  num_citations_crossref  \\\n",
       "0            Neuromyelitis optica spectrum disorders                    84.0   \n",
       "1    Review of primary and secondary erythromelalgia                    24.0   \n",
       "3  Decompressive Hemicraniectomy in the Treatment...                    28.0   \n",
       "4                      Laparoscopic entry techniques                    20.0   \n",
       "5  Percutaneous coronary intervention for stable ...                    19.0   \n",
       "\n",
       "   num_references_crossref date_published_upw  is_oa oa_status  \\\n",
       "0                     60.0         2019-03-01   True      gold   \n",
       "1                     29.0         2019-01-04   True    bronze   \n",
       "3                     40.0         2019-03-01  False    closed   \n",
       "4                    125.0         2019-01-18   True     green   \n",
       "5                     48.0         2018-09-21  False    closed   \n",
       "\n",
       "                                        oa_locations            genre  \n",
       "0  [{'updated': '2020-11-23T10:26:42.514123', 'ur...  journal-article  \n",
       "1  [{'updated': '2021-09-15T06:51:20.019047', 'ur...  journal-article  \n",
       "3                                                 []  journal-article  \n",
       "4  [{'updated': None, 'url': 'https://europepmc.o...  journal-article  \n",
       "5                                                 []  journal-article  "
      ]
     },
     "execution_count": 43,
     "metadata": {},
     "output_type": "execute_result"
    }
   ],
   "source": [
    "df = pd.read_csv(\"../csv/2019_crossref_pubmed_upw.csv\", index_col = 0)\n",
    "df.head()"
   ]
  },
  {
   "cell_type": "code",
   "execution_count": 44,
   "id": "3fcd8888",
   "metadata": {},
   "outputs": [
    {
     "data": {
      "text/plain": [
       "journal-article        24565\n",
       "book-chapter              55\n",
       "proceedings-article        1\n",
       "Name: genre, dtype: int64"
      ]
     },
     "execution_count": 44,
     "metadata": {},
     "output_type": "execute_result"
    }
   ],
   "source": [
    "df[\"genre\"].value_counts()"
   ]
  },
  {
   "cell_type": "code",
   "execution_count": 45,
   "id": "25a565d0",
   "metadata": {},
   "outputs": [
    {
     "data": {
      "text/plain": [
       "pmid                          0\n",
       "doi                           0\n",
       "affiliations                  0\n",
       "abstract                   2784\n",
       "date_published              311\n",
       "author_list                 154\n",
       "journal title               311\n",
       "article title               311\n",
       "num_citations_crossref      311\n",
       "num_references_crossref     311\n",
       "date_published_upw          288\n",
       "is_oa                       288\n",
       "oa_status                   288\n",
       "oa_locations                288\n",
       "genre                       288\n",
       "dtype: int64"
      ]
     },
     "execution_count": 45,
     "metadata": {},
     "output_type": "execute_result"
    }
   ],
   "source": [
    "df.isna().sum()"
   ]
  },
  {
   "cell_type": "code",
   "execution_count": 46,
   "id": "bf78525f",
   "metadata": {},
   "outputs": [
    {
     "data": {
      "text/plain": [
       "pmid                         0\n",
       "doi                          0\n",
       "affiliations                 0\n",
       "abstract                    25\n",
       "date_published             311\n",
       "author_list                154\n",
       "journal title              311\n",
       "article title              311\n",
       "num_citations_crossref     311\n",
       "num_references_crossref    311\n",
       "date_published_upw         288\n",
       "is_oa                      288\n",
       "oa_status                  288\n",
       "oa_locations               288\n",
       "genre                      288\n",
       "dtype: int64"
      ]
     },
     "execution_count": 46,
     "metadata": {},
     "output_type": "execute_result"
    }
   ],
   "source": [
    "df.abstract.fillna(df['article title'], inplace=True)\n",
    "df.isna().sum()"
   ]
  },
  {
   "cell_type": "code",
   "execution_count": 47,
   "id": "effd91e7",
   "metadata": {},
   "outputs": [
    {
     "data": {
      "text/plain": [
       "pmid                       0\n",
       "doi                        0\n",
       "affiliations               0\n",
       "abstract                   0\n",
       "date_published             0\n",
       "author_list                0\n",
       "journal title              0\n",
       "article title              0\n",
       "num_citations_crossref     0\n",
       "num_references_crossref    0\n",
       "date_published_upw         0\n",
       "is_oa                      0\n",
       "oa_status                  0\n",
       "oa_locations               0\n",
       "genre                      0\n",
       "dtype: int64"
      ]
     },
     "execution_count": 47,
     "metadata": {},
     "output_type": "execute_result"
    }
   ],
   "source": [
    "df.dropna(inplace=True)\n",
    "df.isna().sum()"
   ]
  },
  {
   "cell_type": "code",
   "execution_count": 48,
   "id": "dbb5eae0",
   "metadata": {},
   "outputs": [
    {
     "data": {
      "text/plain": [
       "0       2019-03-01\n",
       "1       2019-01-04\n",
       "3       2019-03-01\n",
       "4       2019-01-18\n",
       "5       2018-09-21\n",
       "           ...    \n",
       "24897   2019-11-01\n",
       "24898   2019-07-15\n",
       "24899   2019-07-31\n",
       "24900   2020-02-01\n",
       "24901   2019-12-01\n",
       "Name: pub_date, Length: 24469, dtype: datetime64[ns]"
      ]
     },
     "execution_count": 48,
     "metadata": {},
     "output_type": "execute_result"
    }
   ],
   "source": [
    "df[\"pub_date\"] = pd.to_datetime(df['date_published_upw'])\n",
    "df.pub_date"
   ]
  },
  {
   "cell_type": "code",
   "execution_count": 49,
   "id": "6436501e",
   "metadata": {},
   "outputs": [
    {
     "data": {
      "text/plain": [
       "True     17399\n",
       "False     7070\n",
       "Name: is_oa, dtype: int64"
      ]
     },
     "execution_count": 49,
     "metadata": {},
     "output_type": "execute_result"
    }
   ],
   "source": [
    "df[\"is_oa\"].value_counts()"
   ]
  },
  {
   "cell_type": "code",
   "execution_count": 50,
   "id": "8a03b486",
   "metadata": {},
   "outputs": [
    {
     "data": {
      "text/plain": [
       "closed    7070\n",
       "gold      5350\n",
       "green     5042\n",
       "hybrid    3575\n",
       "bronze    3432\n",
       "Name: oa_status, dtype: int64"
      ]
     },
     "execution_count": 50,
     "metadata": {},
     "output_type": "execute_result"
    }
   ],
   "source": [
    "df[\"oa_status\"].value_counts()"
   ]
  },
  {
   "cell_type": "code",
   "execution_count": 51,
   "id": "dd257224",
   "metadata": {},
   "outputs": [
    {
     "data": {
      "text/plain": [
       "['Huda, Saif',\n",
       " 'Whittam, Dan',\n",
       " 'Bhojak, Maneesh',\n",
       " 'Chamberlain, Jayne',\n",
       " 'Noonan, Carmel',\n",
       " 'Jacob, Anu',\n",
       " 'Kneen, Rachel']"
      ]
     },
     "execution_count": 51,
     "metadata": {},
     "output_type": "execute_result"
    }
   ],
   "source": [
    "df['author_list'] = df[\"author_list\"].apply(literal_eval)\n",
    "df.author_list.iloc[0]"
   ]
  },
  {
   "cell_type": "code",
   "execution_count": 52,
   "id": "b28e091d",
   "metadata": {},
   "outputs": [
    {
     "data": {
      "text/plain": [
       "4      2995\n",
       "3      2896\n",
       "5      2477\n",
       "2      2233\n",
       "6      2105\n",
       "       ... \n",
       "293       1\n",
       "207       1\n",
       "153       1\n",
       "75        1\n",
       "436       1\n",
       "Name: num_authors, Length: 193, dtype: int64"
      ]
     },
     "execution_count": 52,
     "metadata": {},
     "output_type": "execute_result"
    }
   ],
   "source": [
    "df[\"num_authors\"] = df['author_list'].apply(lambda x: len(list(x)))\n",
    "df.num_authors.value_counts()"
   ]
  },
  {
   "cell_type": "code",
   "execution_count": 53,
   "id": "30b7762d",
   "metadata": {},
   "outputs": [
    {
     "data": {
      "text/html": [
       "<div>\n",
       "<style scoped>\n",
       "    .dataframe tbody tr th:only-of-type {\n",
       "        vertical-align: middle;\n",
       "    }\n",
       "\n",
       "    .dataframe tbody tr th {\n",
       "        vertical-align: top;\n",
       "    }\n",
       "\n",
       "    .dataframe thead th {\n",
       "        text-align: right;\n",
       "    }\n",
       "</style>\n",
       "<table border=\"1\" class=\"dataframe\">\n",
       "  <thead>\n",
       "    <tr style=\"text-align: right;\">\n",
       "      <th></th>\n",
       "      <th>pmid</th>\n",
       "      <th>doi</th>\n",
       "      <th>affiliations</th>\n",
       "      <th>abstract</th>\n",
       "      <th>date_published</th>\n",
       "      <th>author_list</th>\n",
       "      <th>journal title</th>\n",
       "      <th>article title</th>\n",
       "      <th>num_citations_crossref</th>\n",
       "      <th>num_references_crossref</th>\n",
       "      <th>date_published_upw</th>\n",
       "      <th>is_oa</th>\n",
       "      <th>oa_status</th>\n",
       "      <th>oa_locations</th>\n",
       "      <th>genre</th>\n",
       "      <th>pub_date</th>\n",
       "      <th>num_authors</th>\n",
       "    </tr>\n",
       "  </thead>\n",
       "  <tbody>\n",
       "    <tr>\n",
       "      <th>0</th>\n",
       "      <td>30872305</td>\n",
       "      <td>10.7861/clinmedicine.19-2-169</td>\n",
       "      <td>['Walton Centre NHS Foundation Trust']</td>\n",
       "      <td>Neuromyelitis optica spectrum disorder (NMOSD)...</td>\n",
       "      <td>[2019, 3]</td>\n",
       "      <td>[Huda, Saif, Whittam, Dan, Bhojak, Maneesh, Ch...</td>\n",
       "      <td>Clinical Medicine</td>\n",
       "      <td>Neuromyelitis optica spectrum disorders</td>\n",
       "      <td>84.0</td>\n",
       "      <td>60.0</td>\n",
       "      <td>2019-03-01</td>\n",
       "      <td>True</td>\n",
       "      <td>gold</td>\n",
       "      <td>[{'updated': '2020-11-23T10:26:42.514123', 'ur...</td>\n",
       "      <td>journal-article</td>\n",
       "      <td>2019-03-01</td>\n",
       "      <td>7</td>\n",
       "    </tr>\n",
       "    <tr>\n",
       "      <th>1</th>\n",
       "      <td>30609105</td>\n",
       "      <td>10.1111/ced.13891</td>\n",
       "      <td>['Sheffield Teaching Hospitals NHS Foundation ...</td>\n",
       "      <td>Erythromelalgia is a condition characterized b...</td>\n",
       "      <td>[2019, 1, 4]</td>\n",
       "      <td>[Mann, N., King, T., Murphy, R.]</td>\n",
       "      <td>Clinical and Experimental Dermatology</td>\n",
       "      <td>Review of primary and secondary erythromelalgia</td>\n",
       "      <td>24.0</td>\n",
       "      <td>29.0</td>\n",
       "      <td>2019-01-04</td>\n",
       "      <td>True</td>\n",
       "      <td>bronze</td>\n",
       "      <td>[{'updated': '2021-09-15T06:51:20.019047', 'ur...</td>\n",
       "      <td>journal-article</td>\n",
       "      <td>2019-01-04</td>\n",
       "      <td>3</td>\n",
       "    </tr>\n",
       "    <tr>\n",
       "      <th>3</th>\n",
       "      <td>30525757</td>\n",
       "      <td>10.21037/cco.2018.11.03</td>\n",
       "      <td>['University Hospital Birmingham', 'University...</td>\n",
       "      <td>Mycosis fungoides (MF) represents the majority...</td>\n",
       "      <td>[2019, 3]</td>\n",
       "      <td>[Das, Suparna, Mitchell, Patrick, Ross, Nichol...</td>\n",
       "      <td>World Neurosurgery</td>\n",
       "      <td>Decompressive Hemicraniectomy in the Treatment...</td>\n",
       "      <td>28.0</td>\n",
       "      <td>40.0</td>\n",
       "      <td>2019-03-01</td>\n",
       "      <td>False</td>\n",
       "      <td>closed</td>\n",
       "      <td>[]</td>\n",
       "      <td>journal-article</td>\n",
       "      <td>2019-03-01</td>\n",
       "      <td>4</td>\n",
       "    </tr>\n",
       "    <tr>\n",
       "      <th>4</th>\n",
       "      <td>30500591</td>\n",
       "      <td>10.1016/j.wneu.2018.11.176</td>\n",
       "      <td>['Derriford Hospital']</td>\n",
       "      <td>BACKGROUND: Malignant middle cerebral artery i...</td>\n",
       "      <td>[2019, 1, 18]</td>\n",
       "      <td>[Ahmad, Gaity, Baker, Jade, Finnerty, John, Ph...</td>\n",
       "      <td>Cochrane Database of Systematic Reviews</td>\n",
       "      <td>Laparoscopic entry techniques</td>\n",
       "      <td>20.0</td>\n",
       "      <td>125.0</td>\n",
       "      <td>2019-01-18</td>\n",
       "      <td>True</td>\n",
       "      <td>green</td>\n",
       "      <td>[{'updated': None, 'url': 'https://europepmc.o...</td>\n",
       "      <td>journal-article</td>\n",
       "      <td>2019-01-18</td>\n",
       "      <td>5</td>\n",
       "    </tr>\n",
       "    <tr>\n",
       "      <th>5</th>\n",
       "      <td>30657163</td>\n",
       "      <td>10.1002/14651858.CD006583.pub5</td>\n",
       "      <td>['Pennine Acute Hospitals NHS Trust']</td>\n",
       "      <td>Update of    Cochrane Database Syst Rev. 2015 ...</td>\n",
       "      <td>[2018, 9, 21]</td>\n",
       "      <td>[Al-Lamee, Rasha K, Nowbar, Alexandra N, Franc...</td>\n",
       "      <td>Heart</td>\n",
       "      <td>Percutaneous coronary intervention for stable ...</td>\n",
       "      <td>19.0</td>\n",
       "      <td>48.0</td>\n",
       "      <td>2018-09-21</td>\n",
       "      <td>False</td>\n",
       "      <td>closed</td>\n",
       "      <td>[]</td>\n",
       "      <td>journal-article</td>\n",
       "      <td>2018-09-21</td>\n",
       "      <td>3</td>\n",
       "    </tr>\n",
       "  </tbody>\n",
       "</table>\n",
       "</div>"
      ],
      "text/plain": [
       "       pmid                             doi  \\\n",
       "0  30872305   10.7861/clinmedicine.19-2-169   \n",
       "1  30609105               10.1111/ced.13891   \n",
       "3  30525757         10.21037/cco.2018.11.03   \n",
       "4  30500591      10.1016/j.wneu.2018.11.176   \n",
       "5  30657163  10.1002/14651858.CD006583.pub5   \n",
       "\n",
       "                                        affiliations  \\\n",
       "0             ['Walton Centre NHS Foundation Trust']   \n",
       "1  ['Sheffield Teaching Hospitals NHS Foundation ...   \n",
       "3  ['University Hospital Birmingham', 'University...   \n",
       "4                             ['Derriford Hospital']   \n",
       "5              ['Pennine Acute Hospitals NHS Trust']   \n",
       "\n",
       "                                            abstract date_published  \\\n",
       "0  Neuromyelitis optica spectrum disorder (NMOSD)...      [2019, 3]   \n",
       "1  Erythromelalgia is a condition characterized b...   [2019, 1, 4]   \n",
       "3  Mycosis fungoides (MF) represents the majority...      [2019, 3]   \n",
       "4  BACKGROUND: Malignant middle cerebral artery i...  [2019, 1, 18]   \n",
       "5  Update of    Cochrane Database Syst Rev. 2015 ...  [2018, 9, 21]   \n",
       "\n",
       "                                         author_list  \\\n",
       "0  [Huda, Saif, Whittam, Dan, Bhojak, Maneesh, Ch...   \n",
       "1                   [Mann, N., King, T., Murphy, R.]   \n",
       "3  [Das, Suparna, Mitchell, Patrick, Ross, Nichol...   \n",
       "4  [Ahmad, Gaity, Baker, Jade, Finnerty, John, Ph...   \n",
       "5  [Al-Lamee, Rasha K, Nowbar, Alexandra N, Franc...   \n",
       "\n",
       "                             journal title  \\\n",
       "0                        Clinical Medicine   \n",
       "1    Clinical and Experimental Dermatology   \n",
       "3                       World Neurosurgery   \n",
       "4  Cochrane Database of Systematic Reviews   \n",
       "5                                    Heart   \n",
       "\n",
       "                                       article title  num_citations_crossref  \\\n",
       "0            Neuromyelitis optica spectrum disorders                    84.0   \n",
       "1    Review of primary and secondary erythromelalgia                    24.0   \n",
       "3  Decompressive Hemicraniectomy in the Treatment...                    28.0   \n",
       "4                      Laparoscopic entry techniques                    20.0   \n",
       "5  Percutaneous coronary intervention for stable ...                    19.0   \n",
       "\n",
       "   num_references_crossref date_published_upw  is_oa oa_status  \\\n",
       "0                     60.0         2019-03-01   True      gold   \n",
       "1                     29.0         2019-01-04   True    bronze   \n",
       "3                     40.0         2019-03-01  False    closed   \n",
       "4                    125.0         2019-01-18   True     green   \n",
       "5                     48.0         2018-09-21  False    closed   \n",
       "\n",
       "                                        oa_locations            genre  \\\n",
       "0  [{'updated': '2020-11-23T10:26:42.514123', 'ur...  journal-article   \n",
       "1  [{'updated': '2021-09-15T06:51:20.019047', 'ur...  journal-article   \n",
       "3                                                 []  journal-article   \n",
       "4  [{'updated': None, 'url': 'https://europepmc.o...  journal-article   \n",
       "5                                                 []  journal-article   \n",
       "\n",
       "    pub_date  num_authors  \n",
       "0 2019-03-01            7  \n",
       "1 2019-01-04            3  \n",
       "3 2019-03-01            4  \n",
       "4 2019-01-18            5  \n",
       "5 2018-09-21            3  "
      ]
     },
     "execution_count": 53,
     "metadata": {},
     "output_type": "execute_result"
    }
   ],
   "source": [
    "df.head()"
   ]
  },
  {
   "cell_type": "markdown",
   "id": "8795ca20",
   "metadata": {},
   "source": [
    "# TO DO: BASIC DATA VISUALISATION OF DATA SET"
   ]
  },
  {
   "cell_type": "code",
   "execution_count": 21,
   "id": "ac55ac1d",
   "metadata": {},
   "outputs": [],
   "source": [
    "# import seaborn as sns\n",
    "\n",
    "# sns.catplot(x=\"oa_status\", kind=\"count\", data=df)"
   ]
  },
  {
   "cell_type": "code",
   "execution_count": 56,
   "id": "3b1ef26b",
   "metadata": {},
   "outputs": [
    {
     "data": {
      "text/plain": [
       "436       1\n",
       "165       1\n",
       "221       1\n",
       "135       1\n",
       "132       1\n",
       "       ... \n",
       "6      2105\n",
       "2      2233\n",
       "5      2477\n",
       "3      2896\n",
       "4      2995\n",
       "Name: num_authors, Length: 193, dtype: int64"
      ]
     },
     "execution_count": 56,
     "metadata": {},
     "output_type": "execute_result"
    }
   ],
   "source": [
    "df.num_authors.value_counts().sort_values()"
   ]
  },
  {
   "cell_type": "code",
   "execution_count": 58,
   "id": "a7bc3b63",
   "metadata": {},
   "outputs": [],
   "source": [
    "# correlate number of citations to the open access status"
   ]
  },
  {
   "cell_type": "code",
   "execution_count": null,
   "id": "85da4eca",
   "metadata": {},
   "outputs": [],
   "source": []
  },
  {
   "cell_type": "markdown",
   "id": "5bd467cc",
   "metadata": {},
   "source": [
    "# TO DO: TOPIC ANALYSIS OF PAPERS "
   ]
  },
  {
   "cell_type": "code",
   "execution_count": 22,
   "id": "df924075",
   "metadata": {},
   "outputs": [],
   "source": [
    "# Use LDA?"
   ]
  },
  {
   "cell_type": "markdown",
   "id": "2bf1f57b",
   "metadata": {},
   "source": []
  }
 ],
 "metadata": {
  "kernelspec": {
   "display_name": "Python 3 (ipykernel)",
   "language": "python",
   "name": "python3"
  },
  "language_info": {
   "codemirror_mode": {
    "name": "ipython",
    "version": 3
   },
   "file_extension": ".py",
   "mimetype": "text/x-python",
   "name": "python",
   "nbconvert_exporter": "python",
   "pygments_lexer": "ipython3",
   "version": "3.8.12"
  },
  "toc": {
   "base_numbering": 1,
   "nav_menu": {},
   "number_sections": true,
   "sideBar": true,
   "skip_h1_title": false,
   "title_cell": "Table of Contents",
   "title_sidebar": "Contents",
   "toc_cell": false,
   "toc_position": {},
   "toc_section_display": true,
   "toc_window_display": false
  }
 },
 "nbformat": 4,
 "nbformat_minor": 5
}
