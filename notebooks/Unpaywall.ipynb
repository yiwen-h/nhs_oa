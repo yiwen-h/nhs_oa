{
 "cells": [
  {
   "cell_type": "code",
   "execution_count": 1,
   "id": "9cd2067f",
   "metadata": {},
   "outputs": [],
   "source": [
    "import pandas as pd\n",
    "import time"
   ]
  },
  {
   "cell_type": "code",
   "execution_count": 2,
   "id": "d3787b26",
   "metadata": {},
   "outputs": [
    {
     "data": {
      "text/plain": [
       "(10501, 6)"
      ]
     },
     "execution_count": 2,
     "metadata": {},
     "output_type": "execute_result"
    }
   ],
   "source": [
    "df = pd.read_csv(\"../csv/2019_crossref_plus_pubmed_temp.csv\", index_col=0)\n",
    "df.shape"
   ]
  },
  {
   "cell_type": "code",
   "execution_count": 3,
   "id": "6feb88d3",
   "metadata": {},
   "outputs": [
    {
     "data": {
      "text/html": [
       "<div>\n",
       "<style scoped>\n",
       "    .dataframe tbody tr th:only-of-type {\n",
       "        vertical-align: middle;\n",
       "    }\n",
       "\n",
       "    .dataframe tbody tr th {\n",
       "        vertical-align: top;\n",
       "    }\n",
       "\n",
       "    .dataframe thead th {\n",
       "        text-align: right;\n",
       "    }\n",
       "</style>\n",
       "<table border=\"1\" class=\"dataframe\">\n",
       "  <thead>\n",
       "    <tr style=\"text-align: right;\">\n",
       "      <th></th>\n",
       "      <th>date_published</th>\n",
       "      <th>authors</th>\n",
       "      <th>journal_title</th>\n",
       "      <th>article_title</th>\n",
       "      <th>all_num_citations_crossref</th>\n",
       "      <th>all_num_references_crossref</th>\n",
       "    </tr>\n",
       "  </thead>\n",
       "  <tbody>\n",
       "    <tr>\n",
       "      <th>0</th>\n",
       "      <td>[2019, 3]</td>\n",
       "      <td>['Huda, Saif', 'Whittam, Dan', 'Bhojak, Manees...</td>\n",
       "      <td>Clinical Medicine</td>\n",
       "      <td>Neuromyelitis optica spectrum disorders</td>\n",
       "      <td>83.0</td>\n",
       "      <td>60.0</td>\n",
       "    </tr>\n",
       "    <tr>\n",
       "      <th>1</th>\n",
       "      <td>[2019, 1, 4]</td>\n",
       "      <td>['Mann, N.', 'King, T.', 'Murphy, R.']</td>\n",
       "      <td>Clinical and Experimental Dermatology</td>\n",
       "      <td>Review of primary and secondary erythromelalgia</td>\n",
       "      <td>24.0</td>\n",
       "      <td>29.0</td>\n",
       "    </tr>\n",
       "    <tr>\n",
       "      <th>2</th>\n",
       "      <td>[2019, 2]</td>\n",
       "      <td>['Lovgren, Marie-Louise', 'Scarisbrick, Julia ...</td>\n",
       "      <td>Chinese Clinical Oncology</td>\n",
       "      <td>Update on skin directed therapies in mycosis f...</td>\n",
       "      <td>15.0</td>\n",
       "      <td>0.0</td>\n",
       "    </tr>\n",
       "    <tr>\n",
       "      <th>3</th>\n",
       "      <td>[2019, 3]</td>\n",
       "      <td>['Das, Suparna', 'Mitchell, Patrick', 'Ross, N...</td>\n",
       "      <td>World Neurosurgery</td>\n",
       "      <td>Decompressive Hemicraniectomy in the Treatment...</td>\n",
       "      <td>28.0</td>\n",
       "      <td>40.0</td>\n",
       "    </tr>\n",
       "    <tr>\n",
       "      <th>4</th>\n",
       "      <td>[2019, 1, 18]</td>\n",
       "      <td>['Ahmad, Gaity', 'Baker, Jade', 'Finnerty, Joh...</td>\n",
       "      <td>Cochrane Database of Systematic Reviews</td>\n",
       "      <td>Laparoscopic entry techniques</td>\n",
       "      <td>20.0</td>\n",
       "      <td>125.0</td>\n",
       "    </tr>\n",
       "  </tbody>\n",
       "</table>\n",
       "</div>"
      ],
      "text/plain": [
       "  date_published                                            authors  \\\n",
       "0      [2019, 3]  ['Huda, Saif', 'Whittam, Dan', 'Bhojak, Manees...   \n",
       "1   [2019, 1, 4]             ['Mann, N.', 'King, T.', 'Murphy, R.']   \n",
       "2      [2019, 2]  ['Lovgren, Marie-Louise', 'Scarisbrick, Julia ...   \n",
       "3      [2019, 3]  ['Das, Suparna', 'Mitchell, Patrick', 'Ross, N...   \n",
       "4  [2019, 1, 18]  ['Ahmad, Gaity', 'Baker, Jade', 'Finnerty, Joh...   \n",
       "\n",
       "                             journal_title  \\\n",
       "0                        Clinical Medicine   \n",
       "1    Clinical and Experimental Dermatology   \n",
       "2                Chinese Clinical Oncology   \n",
       "3                       World Neurosurgery   \n",
       "4  Cochrane Database of Systematic Reviews   \n",
       "\n",
       "                                       article_title  \\\n",
       "0            Neuromyelitis optica spectrum disorders   \n",
       "1    Review of primary and secondary erythromelalgia   \n",
       "2  Update on skin directed therapies in mycosis f...   \n",
       "3  Decompressive Hemicraniectomy in the Treatment...   \n",
       "4                      Laparoscopic entry techniques   \n",
       "\n",
       "   all_num_citations_crossref  all_num_references_crossref  \n",
       "0                        83.0                         60.0  \n",
       "1                        24.0                         29.0  \n",
       "2                        15.0                          0.0  \n",
       "3                        28.0                         40.0  \n",
       "4                        20.0                        125.0  "
      ]
     },
     "execution_count": 3,
     "metadata": {},
     "output_type": "execute_result"
    }
   ],
   "source": [
    "df.head()"
   ]
  },
  {
   "cell_type": "code",
   "execution_count": 9,
   "id": "0751c56f",
   "metadata": {},
   "outputs": [
    {
     "data": {
      "text/plain": [
       "pmid                  0\n",
       "doi                   0\n",
       "affiliations          0\n",
       "abstract           2784\n",
       "authors               0\n",
       "journal title       189\n",
       "article title       189\n",
       "num_times_cited     189\n",
       "num_references      189\n",
       "dtype: int64"
      ]
     },
     "execution_count": 9,
     "metadata": {},
     "output_type": "execute_result"
    }
   ],
   "source": [
    "df.isnull().sum()"
   ]
  },
  {
   "cell_type": "code",
   "execution_count": null,
   "id": "17bfc207",
   "metadata": {},
   "outputs": [],
   "source": [
    "email_address = \"yiwench@gmail.com\"\n",
    "\n",
    "def get_info_from_unpaywall(df = df):\n",
    "    start_time = time.ctime()\n",
    "    headers = {\n",
    "        'User-Agent': f'NHS_OA (https://github.com/yiwen-h/nhs_oa/; mailto:{email_address})',\n",
    "        'From': f'{email_address}'\n",
    "    }\n",
    "    all_date_published_upw = []\n",
    "    all_is_oa = []\n",
    "    all_oa_status = []\n",
    "    all_oa_locations = []\n",
    "    all_is_paratext = []\n",
    "\n",
    "    for i in range(20):\n",
    "        doi = df.iloc[i].doi\n",
    "        url = f\"https://api.unpaywall.org/v2/{doi}?email=yiwench@gmail.com\"\n",
    "        response = requests.get(url, headers=headers)\n",
    "        try:\n",
    "            response = response.json()\n",
    "            metadata = response.get('message')\n",
    "            # get publication date\n",
    "            date_as_list = metadata.get('published').get('date-parts')[0]\n",
    "            if len(date_as_list) > 1:\n",
    "                pub_date = f\"{date_as_list[0]}-{date_as_list[1]}\"\n",
    "            else:\n",
    "                pub_date = f\"{date_as_list[0]}\"\n",
    "            all_date_published.append(pub_date)\n",
    "            # get authors\n",
    "            author_list = []\n",
    "            authors_metadata = metadata.get('author')\n",
    "            for author in authors_metadata:\n",
    "                author_name = f\"{author.get('family')}, {author.get('given')}\"\n",
    "                author_list.append(author_name)\n",
    "            all_author_list.append(author_list)\n",
    "            # get journal title\n",
    "            all_journal_title.append(metadata.get('container-title')[0])\n",
    "            # get article title\n",
    "            all_article_title.append(metadata.get('title')[0])\n",
    "            # get num_citations\n",
    "            all_num_citations_crossref.append(metadata.get(\"is-referenced-by-count\"))\n",
    "            # get num_references\n",
    "            all_num_references_crossref.append(metadata.get(\"references-count\"))\n",
    "        except:\n",
    "            all_date_published.append(\"NaN\")\n",
    "            all_author_list.append([\"NaN\"])\n",
    "            all_journal_title.append(\"NaN\")\n",
    "            all_article_title.append(\"NaN\")\n",
    "            all_num_citations_crossref.append(\"NaN\")\n",
    "            all_num_references_crossref.append(\"NaN\")\n",
    "        \n",
    "        mini_df_dict = {\"date_published\" : all_date_published,\n",
    "                        \"authors\" : all_author_list,\n",
    "                        \"journal_title\": all_journal_title,\n",
    "                        \"article_title\": all_article_title,\n",
    "                        \"all_num_citations_crossref\" : all_num_citations_crossref,\n",
    "                        \"all_num_references_crossref\" :  all_num_references_crossref\n",
    "                        }\n",
    "        mini_df = pd.DataFrame(mini_df_dict)\n",
    "        mini_df.to_csv(\"csv/2019_crossref_plus_pubmed_temp.csv\")\n",
    "        print(f\"{i} / {df.shape[0]} articles metadata obtained from unpaywall\")\n",
    "    df.to_csv(\"csv/unpaywalltest.csv\")\n",
    "    print(f\"Finished. Start time: {start_time}. Finish time: {time.ctime()}\")"
   ]
  }
 ],
 "metadata": {
  "kernelspec": {
   "display_name": "Python 3 (ipykernel)",
   "language": "python",
   "name": "python3"
  },
  "language_info": {
   "codemirror_mode": {
    "name": "ipython",
    "version": 3
   },
   "file_extension": ".py",
   "mimetype": "text/x-python",
   "name": "python",
   "nbconvert_exporter": "python",
   "pygments_lexer": "ipython3",
   "version": "3.8.12"
  },
  "toc": {
   "base_numbering": 1,
   "nav_menu": {},
   "number_sections": true,
   "sideBar": true,
   "skip_h1_title": false,
   "title_cell": "Table of Contents",
   "title_sidebar": "Contents",
   "toc_cell": false,
   "toc_position": {},
   "toc_section_display": true,
   "toc_window_display": false
  }
 },
 "nbformat": 4,
 "nbformat_minor": 5
}
