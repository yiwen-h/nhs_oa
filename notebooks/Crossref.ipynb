{
 "cells": [
  {
   "cell_type": "code",
   "execution_count": 23,
   "id": "50dd77de",
   "metadata": {},
   "outputs": [
    {
     "ename": "SyntaxError",
     "evalue": "unexpected EOF while parsing (data_from_pubmed.py, line 120)",
     "output_type": "error",
     "traceback": [
      "Traceback \u001b[0;36m(most recent call last)\u001b[0m:\n",
      "  File \u001b[1;32m~/.pyenv/versions/3.8.12/envs/nhs_oa/lib/python3.8/site-packages/IPython/core/interactiveshell.py:3361\u001b[0m in \u001b[1;35mrun_code\u001b[0m\n    exec(code_obj, self.user_global_ns, self.user_ns)\n",
      "\u001b[0;36m  Input \u001b[0;32mIn [23]\u001b[0;36m in \u001b[0;35m<cell line: 1>\u001b[0;36m\u001b[0m\n\u001b[0;31m    from nhs_oa import data_from_pubmed\u001b[0m\n",
      "\u001b[0;36m  File \u001b[0;32m~/.pyenv/versions/3.8.12/envs/nhs_oa/lib/python3.8/site-packages/nhs_oa/data_from_pubmed.py:120\u001b[0;36m\u001b[0m\n\u001b[0;31m    if __name__ == \"__main__\":\u001b[0m\n\u001b[0m                              ^\u001b[0m\n\u001b[0;31mSyntaxError\u001b[0m\u001b[0;31m:\u001b[0m unexpected EOF while parsing\n"
     ]
    }
   ],
   "source": [
    "from nhs_oa import data_from_pubmed"
   ]
  },
  {
   "cell_type": "code",
   "execution_count": 1,
   "id": "d0285913",
   "metadata": {},
   "outputs": [],
   "source": [
    "import pandas as pd\n",
    "import numpy as np\n",
    "import requests\n"
   ]
  },
  {
   "cell_type": "code",
   "execution_count": 24,
   "id": "47044c57",
   "metadata": {},
   "outputs": [
    {
     "data": {
      "text/html": [
       "<div>\n",
       "<style scoped>\n",
       "    .dataframe tbody tr th:only-of-type {\n",
       "        vertical-align: middle;\n",
       "    }\n",
       "\n",
       "    .dataframe tbody tr th {\n",
       "        vertical-align: top;\n",
       "    }\n",
       "\n",
       "    .dataframe thead th {\n",
       "        text-align: right;\n",
       "    }\n",
       "</style>\n",
       "<table border=\"1\" class=\"dataframe\">\n",
       "  <thead>\n",
       "    <tr style=\"text-align: right;\">\n",
       "      <th></th>\n",
       "      <th>pmid</th>\n",
       "      <th>doi</th>\n",
       "      <th>affiliations</th>\n",
       "    </tr>\n",
       "  </thead>\n",
       "  <tbody>\n",
       "    <tr>\n",
       "      <th>0</th>\n",
       "      <td>30872305</td>\n",
       "      <td>10.7861/clinmedicine.19-2-169</td>\n",
       "      <td>['Walton Centre NHS Foundation Trust']</td>\n",
       "    </tr>\n",
       "    <tr>\n",
       "      <th>1</th>\n",
       "      <td>30609105</td>\n",
       "      <td>10.1111/ced.13891</td>\n",
       "      <td>['Sheffield Teaching Hospitals NHS Foundation ...</td>\n",
       "    </tr>\n",
       "    <tr>\n",
       "      <th>2</th>\n",
       "      <td>31198893</td>\n",
       "      <td>NaN</td>\n",
       "      <td>['Royal Wolverhampton NHS Trust', 'University ...</td>\n",
       "    </tr>\n",
       "    <tr>\n",
       "      <th>3</th>\n",
       "      <td>30525757</td>\n",
       "      <td>10.21037/cco.2018.11.03</td>\n",
       "      <td>['University Hospital Birmingham', 'University...</td>\n",
       "    </tr>\n",
       "    <tr>\n",
       "      <th>4</th>\n",
       "      <td>30500591</td>\n",
       "      <td>10.1016/j.wneu.2018.11.176</td>\n",
       "      <td>['Derriford Hospital']</td>\n",
       "    </tr>\n",
       "  </tbody>\n",
       "</table>\n",
       "</div>"
      ],
      "text/plain": [
       "       pmid                            doi  \\\n",
       "0  30872305  10.7861/clinmedicine.19-2-169   \n",
       "1  30609105              10.1111/ced.13891   \n",
       "2  31198893                            NaN   \n",
       "3  30525757        10.21037/cco.2018.11.03   \n",
       "4  30500591     10.1016/j.wneu.2018.11.176   \n",
       "\n",
       "                                        affiliations  \n",
       "0             ['Walton Centre NHS Foundation Trust']  \n",
       "1  ['Sheffield Teaching Hospitals NHS Foundation ...  \n",
       "2  ['Royal Wolverhampton NHS Trust', 'University ...  \n",
       "3  ['University Hospital Birmingham', 'University...  \n",
       "4                             ['Derriford Hospital']  "
      ]
     },
     "execution_count": 24,
     "metadata": {},
     "output_type": "execute_result"
    }
   ],
   "source": [
    "df = pd.read_csv('../csv/test_data.csv', index_col=0)\n",
    "df.head()"
   ]
  },
  {
   "cell_type": "code",
   "execution_count": 26,
   "id": "3cdaf21c",
   "metadata": {},
   "outputs": [
    {
     "data": {
      "text/plain": [
       "pmid            0\n",
       "doi             0\n",
       "affiliations    0\n",
       "dtype: int64"
      ]
     },
     "execution_count": 26,
     "metadata": {},
     "output_type": "execute_result"
    }
   ],
   "source": [
    "\n",
    "df.dropna(inplace = True)\n",
    "df.isnull().sum()"
   ]
  },
  {
   "cell_type": "code",
   "execution_count": 28,
   "id": "a1b54118",
   "metadata": {},
   "outputs": [
    {
     "data": {
      "text/plain": [
       "4"
      ]
     },
     "execution_count": 28,
     "metadata": {},
     "output_type": "execute_result"
    }
   ],
   "source": [
    "df.shape[0]"
   ]
  },
  {
   "cell_type": "code",
   "execution_count": 41,
   "id": "299249d3",
   "metadata": {},
   "outputs": [
    {
     "name": "stdout",
     "output_type": "stream",
     "text": [
      "CPU times: user 71 ms, sys: 4.93 ms, total: 75.9 ms\n",
      "Wall time: 4.22 s\n"
     ]
    }
   ],
   "source": [
    "%%time\n",
    "\n",
    "headers = {\n",
    "    'User-Agent': 'NHS_OA (https://github.com/yiwen-h/nhs_oa/; mailto:yiwench@gmail.com)',\n",
    "    'From': 'yiwench@gmail.com'\n",
    "}\n",
    "\n",
    "all_date_published = []\n",
    "all_author_list = []\n",
    "all_journal_title = []\n",
    "all_article_title = []\n",
    "all_num_citations_crossref = []\n",
    "all_num_references_crossref = []\n",
    "\n",
    "\n",
    "for i in range(df.shape[0]):\n",
    "    doi = df['doi'].iloc[i]\n",
    "    url = f\"https://api.crossref.org/works/{doi}\"\n",
    "    response = requests.get(url, headers=headers)\n",
    "    response = response.json()\n",
    "    metadata = response.get('message')\n",
    "    # get publication date\n",
    "    date_published.append(metadata.get('published').get('date-parts')[0])\n",
    "    # get authors\n",
    "    author_list = []\n",
    "    authors_metadata = metadata.get('author')\n",
    "    for author in authors_metadata:\n",
    "        author_name = f\"{author.get('family')}, {author.get('given')}\"\n",
    "        author_list.append(author_name)\n",
    "    all_author_list.append(author_list)\n",
    "    # get journal title\n",
    "    all_journal_title.append(metadata.get('container-title')[0])\n",
    "    # get article title\n",
    "    all_article_title.append(metadata.get('title'))\n",
    "    # get num_citations\n",
    "    all_num_citations_crossref.append(metadata.get(\"is-referenced-by-count\"))\n",
    "    # get num_references\n",
    "    all_num_references_crossref.append(metadata.get(\"references-count\"))"
   ]
  },
  {
   "cell_type": "code",
   "execution_count": 40,
   "id": "b261ef64",
   "metadata": {},
   "outputs": [],
   "source": []
  }
 ],
 "metadata": {
  "kernelspec": {
   "display_name": "Python 3 (ipykernel)",
   "language": "python",
   "name": "python3"
  },
  "language_info": {
   "codemirror_mode": {
    "name": "ipython",
    "version": 3
   },
   "file_extension": ".py",
   "mimetype": "text/x-python",
   "name": "python",
   "nbconvert_exporter": "python",
   "pygments_lexer": "ipython3",
   "version": "3.8.12"
  },
  "toc": {
   "base_numbering": 1,
   "nav_menu": {},
   "number_sections": true,
   "sideBar": true,
   "skip_h1_title": false,
   "title_cell": "Table of Contents",
   "title_sidebar": "Contents",
   "toc_cell": false,
   "toc_position": {},
   "toc_section_display": true,
   "toc_window_display": false
  }
 },
 "nbformat": 4,
 "nbformat_minor": 5
}
